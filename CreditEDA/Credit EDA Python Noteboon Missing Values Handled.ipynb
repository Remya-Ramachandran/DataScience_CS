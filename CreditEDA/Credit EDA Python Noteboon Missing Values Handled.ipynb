{
 "cells": [
  {
   "cell_type": "code",
   "execution_count": 1,
   "metadata": {},
   "outputs": [],
   "source": [
    "# import libraries\n",
    "import pandas as pd\n",
    "import numpy as np\n",
    "import seaborn as sns\n",
    "import matplotlib.pyplot as plt\n",
    "%matplotlib inline\n",
    "import warnings\n",
    "warnings.filterwarnings(\"ignore\")"
   ]
  },
  {
   "cell_type": "code",
   "execution_count": 2,
   "metadata": {},
   "outputs": [],
   "source": [
    "#read application data\n",
    "app_data = pd.read_csv('application_data.csv')\n",
    "#read customer previous application data\n",
    "prev_data = pd.read_csv('previous_application.csv')\n"
   ]
  },
  {
   "cell_type": "code",
   "execution_count": 3,
   "metadata": {},
   "outputs": [
    {
     "data": {
      "text/html": [
       "<div>\n",
       "<style scoped>\n",
       "    .dataframe tbody tr th:only-of-type {\n",
       "        vertical-align: middle;\n",
       "    }\n",
       "\n",
       "    .dataframe tbody tr th {\n",
       "        vertical-align: top;\n",
       "    }\n",
       "\n",
       "    .dataframe thead th {\n",
       "        text-align: right;\n",
       "    }\n",
       "</style>\n",
       "<table border=\"1\" class=\"dataframe\">\n",
       "  <thead>\n",
       "    <tr style=\"text-align: right;\">\n",
       "      <th></th>\n",
       "      <th>SK_ID_CURR</th>\n",
       "      <th>TARGET</th>\n",
       "      <th>NAME_CONTRACT_TYPE</th>\n",
       "      <th>CODE_GENDER</th>\n",
       "      <th>FLAG_OWN_CAR</th>\n",
       "      <th>FLAG_OWN_REALTY</th>\n",
       "      <th>CNT_CHILDREN</th>\n",
       "      <th>AMT_INCOME_TOTAL</th>\n",
       "      <th>AMT_CREDIT</th>\n",
       "      <th>AMT_ANNUITY</th>\n",
       "      <th>...</th>\n",
       "      <th>FLAG_DOCUMENT_18</th>\n",
       "      <th>FLAG_DOCUMENT_19</th>\n",
       "      <th>FLAG_DOCUMENT_20</th>\n",
       "      <th>FLAG_DOCUMENT_21</th>\n",
       "      <th>AMT_REQ_CREDIT_BUREAU_HOUR</th>\n",
       "      <th>AMT_REQ_CREDIT_BUREAU_DAY</th>\n",
       "      <th>AMT_REQ_CREDIT_BUREAU_WEEK</th>\n",
       "      <th>AMT_REQ_CREDIT_BUREAU_MON</th>\n",
       "      <th>AMT_REQ_CREDIT_BUREAU_QRT</th>\n",
       "      <th>AMT_REQ_CREDIT_BUREAU_YEAR</th>\n",
       "    </tr>\n",
       "  </thead>\n",
       "  <tbody>\n",
       "    <tr>\n",
       "      <th>0</th>\n",
       "      <td>100002</td>\n",
       "      <td>1</td>\n",
       "      <td>Cash loans</td>\n",
       "      <td>M</td>\n",
       "      <td>N</td>\n",
       "      <td>Y</td>\n",
       "      <td>0</td>\n",
       "      <td>202500.0</td>\n",
       "      <td>406597.5</td>\n",
       "      <td>24700.5</td>\n",
       "      <td>...</td>\n",
       "      <td>0</td>\n",
       "      <td>0</td>\n",
       "      <td>0</td>\n",
       "      <td>0</td>\n",
       "      <td>0.0</td>\n",
       "      <td>0.0</td>\n",
       "      <td>0.0</td>\n",
       "      <td>0.0</td>\n",
       "      <td>0.0</td>\n",
       "      <td>1.0</td>\n",
       "    </tr>\n",
       "    <tr>\n",
       "      <th>1</th>\n",
       "      <td>100003</td>\n",
       "      <td>0</td>\n",
       "      <td>Cash loans</td>\n",
       "      <td>F</td>\n",
       "      <td>N</td>\n",
       "      <td>N</td>\n",
       "      <td>0</td>\n",
       "      <td>270000.0</td>\n",
       "      <td>1293502.5</td>\n",
       "      <td>35698.5</td>\n",
       "      <td>...</td>\n",
       "      <td>0</td>\n",
       "      <td>0</td>\n",
       "      <td>0</td>\n",
       "      <td>0</td>\n",
       "      <td>0.0</td>\n",
       "      <td>0.0</td>\n",
       "      <td>0.0</td>\n",
       "      <td>0.0</td>\n",
       "      <td>0.0</td>\n",
       "      <td>0.0</td>\n",
       "    </tr>\n",
       "    <tr>\n",
       "      <th>2</th>\n",
       "      <td>100004</td>\n",
       "      <td>0</td>\n",
       "      <td>Revolving loans</td>\n",
       "      <td>M</td>\n",
       "      <td>Y</td>\n",
       "      <td>Y</td>\n",
       "      <td>0</td>\n",
       "      <td>67500.0</td>\n",
       "      <td>135000.0</td>\n",
       "      <td>6750.0</td>\n",
       "      <td>...</td>\n",
       "      <td>0</td>\n",
       "      <td>0</td>\n",
       "      <td>0</td>\n",
       "      <td>0</td>\n",
       "      <td>0.0</td>\n",
       "      <td>0.0</td>\n",
       "      <td>0.0</td>\n",
       "      <td>0.0</td>\n",
       "      <td>0.0</td>\n",
       "      <td>0.0</td>\n",
       "    </tr>\n",
       "    <tr>\n",
       "      <th>3</th>\n",
       "      <td>100006</td>\n",
       "      <td>0</td>\n",
       "      <td>Cash loans</td>\n",
       "      <td>F</td>\n",
       "      <td>N</td>\n",
       "      <td>Y</td>\n",
       "      <td>0</td>\n",
       "      <td>135000.0</td>\n",
       "      <td>312682.5</td>\n",
       "      <td>29686.5</td>\n",
       "      <td>...</td>\n",
       "      <td>0</td>\n",
       "      <td>0</td>\n",
       "      <td>0</td>\n",
       "      <td>0</td>\n",
       "      <td>NaN</td>\n",
       "      <td>NaN</td>\n",
       "      <td>NaN</td>\n",
       "      <td>NaN</td>\n",
       "      <td>NaN</td>\n",
       "      <td>NaN</td>\n",
       "    </tr>\n",
       "    <tr>\n",
       "      <th>4</th>\n",
       "      <td>100007</td>\n",
       "      <td>0</td>\n",
       "      <td>Cash loans</td>\n",
       "      <td>M</td>\n",
       "      <td>N</td>\n",
       "      <td>Y</td>\n",
       "      <td>0</td>\n",
       "      <td>121500.0</td>\n",
       "      <td>513000.0</td>\n",
       "      <td>21865.5</td>\n",
       "      <td>...</td>\n",
       "      <td>0</td>\n",
       "      <td>0</td>\n",
       "      <td>0</td>\n",
       "      <td>0</td>\n",
       "      <td>0.0</td>\n",
       "      <td>0.0</td>\n",
       "      <td>0.0</td>\n",
       "      <td>0.0</td>\n",
       "      <td>0.0</td>\n",
       "      <td>0.0</td>\n",
       "    </tr>\n",
       "  </tbody>\n",
       "</table>\n",
       "<p>5 rows × 122 columns</p>\n",
       "</div>"
      ],
      "text/plain": [
       "   SK_ID_CURR  TARGET NAME_CONTRACT_TYPE CODE_GENDER FLAG_OWN_CAR  \\\n",
       "0      100002       1         Cash loans           M            N   \n",
       "1      100003       0         Cash loans           F            N   \n",
       "2      100004       0    Revolving loans           M            Y   \n",
       "3      100006       0         Cash loans           F            N   \n",
       "4      100007       0         Cash loans           M            N   \n",
       "\n",
       "  FLAG_OWN_REALTY  CNT_CHILDREN  AMT_INCOME_TOTAL  AMT_CREDIT  AMT_ANNUITY  \\\n",
       "0               Y             0          202500.0    406597.5      24700.5   \n",
       "1               N             0          270000.0   1293502.5      35698.5   \n",
       "2               Y             0           67500.0    135000.0       6750.0   \n",
       "3               Y             0          135000.0    312682.5      29686.5   \n",
       "4               Y             0          121500.0    513000.0      21865.5   \n",
       "\n",
       "   ...  FLAG_DOCUMENT_18 FLAG_DOCUMENT_19 FLAG_DOCUMENT_20 FLAG_DOCUMENT_21  \\\n",
       "0  ...                 0                0                0                0   \n",
       "1  ...                 0                0                0                0   \n",
       "2  ...                 0                0                0                0   \n",
       "3  ...                 0                0                0                0   \n",
       "4  ...                 0                0                0                0   \n",
       "\n",
       "  AMT_REQ_CREDIT_BUREAU_HOUR AMT_REQ_CREDIT_BUREAU_DAY  \\\n",
       "0                        0.0                       0.0   \n",
       "1                        0.0                       0.0   \n",
       "2                        0.0                       0.0   \n",
       "3                        NaN                       NaN   \n",
       "4                        0.0                       0.0   \n",
       "\n",
       "   AMT_REQ_CREDIT_BUREAU_WEEK  AMT_REQ_CREDIT_BUREAU_MON  \\\n",
       "0                         0.0                        0.0   \n",
       "1                         0.0                        0.0   \n",
       "2                         0.0                        0.0   \n",
       "3                         NaN                        NaN   \n",
       "4                         0.0                        0.0   \n",
       "\n",
       "   AMT_REQ_CREDIT_BUREAU_QRT  AMT_REQ_CREDIT_BUREAU_YEAR  \n",
       "0                        0.0                         1.0  \n",
       "1                        0.0                         0.0  \n",
       "2                        0.0                         0.0  \n",
       "3                        NaN                         NaN  \n",
       "4                        0.0                         0.0  \n",
       "\n",
       "[5 rows x 122 columns]"
      ]
     },
     "execution_count": 3,
     "metadata": {},
     "output_type": "execute_result"
    }
   ],
   "source": [
    "#Check the loaded data\n",
    "app_data.head()"
   ]
  },
  {
   "cell_type": "code",
   "execution_count": 4,
   "metadata": {},
   "outputs": [
    {
     "name": "stdout",
     "output_type": "stream",
     "text": [
      "<class 'pandas.core.frame.DataFrame'>\n",
      "RangeIndex: 307511 entries, 0 to 307510\n",
      "Data columns (total 122 columns):\n",
      " #   Column                        Non-Null Count   Dtype  \n",
      "---  ------                        --------------   -----  \n",
      " 0   SK_ID_CURR                    307511 non-null  int64  \n",
      " 1   TARGET                        307511 non-null  int64  \n",
      " 2   NAME_CONTRACT_TYPE            307511 non-null  object \n",
      " 3   CODE_GENDER                   307511 non-null  object \n",
      " 4   FLAG_OWN_CAR                  307511 non-null  object \n",
      " 5   FLAG_OWN_REALTY               307511 non-null  object \n",
      " 6   CNT_CHILDREN                  307511 non-null  int64  \n",
      " 7   AMT_INCOME_TOTAL              307511 non-null  float64\n",
      " 8   AMT_CREDIT                    307511 non-null  float64\n",
      " 9   AMT_ANNUITY                   307499 non-null  float64\n",
      " 10  AMT_GOODS_PRICE               307233 non-null  float64\n",
      " 11  NAME_TYPE_SUITE               306219 non-null  object \n",
      " 12  NAME_INCOME_TYPE              307511 non-null  object \n",
      " 13  NAME_EDUCATION_TYPE           307511 non-null  object \n",
      " 14  NAME_FAMILY_STATUS            307511 non-null  object \n",
      " 15  NAME_HOUSING_TYPE             307511 non-null  object \n",
      " 16  REGION_POPULATION_RELATIVE    307511 non-null  float64\n",
      " 17  DAYS_BIRTH                    307511 non-null  int64  \n",
      " 18  DAYS_EMPLOYED                 307511 non-null  int64  \n",
      " 19  DAYS_REGISTRATION             307511 non-null  float64\n",
      " 20  DAYS_ID_PUBLISH               307511 non-null  int64  \n",
      " 21  OWN_CAR_AGE                   104582 non-null  float64\n",
      " 22  FLAG_MOBIL                    307511 non-null  int64  \n",
      " 23  FLAG_EMP_PHONE                307511 non-null  int64  \n",
      " 24  FLAG_WORK_PHONE               307511 non-null  int64  \n",
      " 25  FLAG_CONT_MOBILE              307511 non-null  int64  \n",
      " 26  FLAG_PHONE                    307511 non-null  int64  \n",
      " 27  FLAG_EMAIL                    307511 non-null  int64  \n",
      " 28  OCCUPATION_TYPE               211120 non-null  object \n",
      " 29  CNT_FAM_MEMBERS               307509 non-null  float64\n",
      " 30  REGION_RATING_CLIENT          307511 non-null  int64  \n",
      " 31  REGION_RATING_CLIENT_W_CITY   307511 non-null  int64  \n",
      " 32  WEEKDAY_APPR_PROCESS_START    307511 non-null  object \n",
      " 33  HOUR_APPR_PROCESS_START       307511 non-null  int64  \n",
      " 34  REG_REGION_NOT_LIVE_REGION    307511 non-null  int64  \n",
      " 35  REG_REGION_NOT_WORK_REGION    307511 non-null  int64  \n",
      " 36  LIVE_REGION_NOT_WORK_REGION   307511 non-null  int64  \n",
      " 37  REG_CITY_NOT_LIVE_CITY        307511 non-null  int64  \n",
      " 38  REG_CITY_NOT_WORK_CITY        307511 non-null  int64  \n",
      " 39  LIVE_CITY_NOT_WORK_CITY       307511 non-null  int64  \n",
      " 40  ORGANIZATION_TYPE             307511 non-null  object \n",
      " 41  EXT_SOURCE_1                  134133 non-null  float64\n",
      " 42  EXT_SOURCE_2                  306851 non-null  float64\n",
      " 43  EXT_SOURCE_3                  246546 non-null  float64\n",
      " 44  APARTMENTS_AVG                151450 non-null  float64\n",
      " 45  BASEMENTAREA_AVG              127568 non-null  float64\n",
      " 46  YEARS_BEGINEXPLUATATION_AVG   157504 non-null  float64\n",
      " 47  YEARS_BUILD_AVG               103023 non-null  float64\n",
      " 48  COMMONAREA_AVG                92646 non-null   float64\n",
      " 49  ELEVATORS_AVG                 143620 non-null  float64\n",
      " 50  ENTRANCES_AVG                 152683 non-null  float64\n",
      " 51  FLOORSMAX_AVG                 154491 non-null  float64\n",
      " 52  FLOORSMIN_AVG                 98869 non-null   float64\n",
      " 53  LANDAREA_AVG                  124921 non-null  float64\n",
      " 54  LIVINGAPARTMENTS_AVG          97312 non-null   float64\n",
      " 55  LIVINGAREA_AVG                153161 non-null  float64\n",
      " 56  NONLIVINGAPARTMENTS_AVG       93997 non-null   float64\n",
      " 57  NONLIVINGAREA_AVG             137829 non-null  float64\n",
      " 58  APARTMENTS_MODE               151450 non-null  float64\n",
      " 59  BASEMENTAREA_MODE             127568 non-null  float64\n",
      " 60  YEARS_BEGINEXPLUATATION_MODE  157504 non-null  float64\n",
      " 61  YEARS_BUILD_MODE              103023 non-null  float64\n",
      " 62  COMMONAREA_MODE               92646 non-null   float64\n",
      " 63  ELEVATORS_MODE                143620 non-null  float64\n",
      " 64  ENTRANCES_MODE                152683 non-null  float64\n",
      " 65  FLOORSMAX_MODE                154491 non-null  float64\n",
      " 66  FLOORSMIN_MODE                98869 non-null   float64\n",
      " 67  LANDAREA_MODE                 124921 non-null  float64\n",
      " 68  LIVINGAPARTMENTS_MODE         97312 non-null   float64\n",
      " 69  LIVINGAREA_MODE               153161 non-null  float64\n",
      " 70  NONLIVINGAPARTMENTS_MODE      93997 non-null   float64\n",
      " 71  NONLIVINGAREA_MODE            137829 non-null  float64\n",
      " 72  APARTMENTS_MEDI               151450 non-null  float64\n",
      " 73  BASEMENTAREA_MEDI             127568 non-null  float64\n",
      " 74  YEARS_BEGINEXPLUATATION_MEDI  157504 non-null  float64\n",
      " 75  YEARS_BUILD_MEDI              103023 non-null  float64\n",
      " 76  COMMONAREA_MEDI               92646 non-null   float64\n",
      " 77  ELEVATORS_MEDI                143620 non-null  float64\n",
      " 78  ENTRANCES_MEDI                152683 non-null  float64\n",
      " 79  FLOORSMAX_MEDI                154491 non-null  float64\n",
      " 80  FLOORSMIN_MEDI                98869 non-null   float64\n",
      " 81  LANDAREA_MEDI                 124921 non-null  float64\n",
      " 82  LIVINGAPARTMENTS_MEDI         97312 non-null   float64\n",
      " 83  LIVINGAREA_MEDI               153161 non-null  float64\n",
      " 84  NONLIVINGAPARTMENTS_MEDI      93997 non-null   float64\n",
      " 85  NONLIVINGAREA_MEDI            137829 non-null  float64\n",
      " 86  FONDKAPREMONT_MODE            97216 non-null   object \n",
      " 87  HOUSETYPE_MODE                153214 non-null  object \n",
      " 88  TOTALAREA_MODE                159080 non-null  float64\n",
      " 89  WALLSMATERIAL_MODE            151170 non-null  object \n",
      " 90  EMERGENCYSTATE_MODE           161756 non-null  object \n",
      " 91  OBS_30_CNT_SOCIAL_CIRCLE      306490 non-null  float64\n",
      " 92  DEF_30_CNT_SOCIAL_CIRCLE      306490 non-null  float64\n",
      " 93  OBS_60_CNT_SOCIAL_CIRCLE      306490 non-null  float64\n",
      " 94  DEF_60_CNT_SOCIAL_CIRCLE      306490 non-null  float64\n",
      " 95  DAYS_LAST_PHONE_CHANGE        307510 non-null  float64\n",
      " 96  FLAG_DOCUMENT_2               307511 non-null  int64  \n",
      " 97  FLAG_DOCUMENT_3               307511 non-null  int64  \n",
      " 98  FLAG_DOCUMENT_4               307511 non-null  int64  \n",
      " 99  FLAG_DOCUMENT_5               307511 non-null  int64  \n",
      " 100 FLAG_DOCUMENT_6               307511 non-null  int64  \n",
      " 101 FLAG_DOCUMENT_7               307511 non-null  int64  \n",
      " 102 FLAG_DOCUMENT_8               307511 non-null  int64  \n",
      " 103 FLAG_DOCUMENT_9               307511 non-null  int64  \n",
      " 104 FLAG_DOCUMENT_10              307511 non-null  int64  \n",
      " 105 FLAG_DOCUMENT_11              307511 non-null  int64  \n",
      " 106 FLAG_DOCUMENT_12              307511 non-null  int64  \n",
      " 107 FLAG_DOCUMENT_13              307511 non-null  int64  \n",
      " 108 FLAG_DOCUMENT_14              307511 non-null  int64  \n",
      " 109 FLAG_DOCUMENT_15              307511 non-null  int64  \n",
      " 110 FLAG_DOCUMENT_16              307511 non-null  int64  \n",
      " 111 FLAG_DOCUMENT_17              307511 non-null  int64  \n",
      " 112 FLAG_DOCUMENT_18              307511 non-null  int64  \n",
      " 113 FLAG_DOCUMENT_19              307511 non-null  int64  \n",
      " 114 FLAG_DOCUMENT_20              307511 non-null  int64  \n",
      " 115 FLAG_DOCUMENT_21              307511 non-null  int64  \n",
      " 116 AMT_REQ_CREDIT_BUREAU_HOUR    265992 non-null  float64\n",
      " 117 AMT_REQ_CREDIT_BUREAU_DAY     265992 non-null  float64\n",
      " 118 AMT_REQ_CREDIT_BUREAU_WEEK    265992 non-null  float64\n",
      " 119 AMT_REQ_CREDIT_BUREAU_MON     265992 non-null  float64\n",
      " 120 AMT_REQ_CREDIT_BUREAU_QRT     265992 non-null  float64\n",
      " 121 AMT_REQ_CREDIT_BUREAU_YEAR    265992 non-null  float64\n",
      "dtypes: float64(65), int64(41), object(16)\n",
      "memory usage: 286.2+ MB\n"
     ]
    }
   ],
   "source": [
    "#inspect the column/data types\n",
    "app_data.info(verbose=True, null_counts=True)"
   ]
  },
  {
   "cell_type": "code",
   "execution_count": 5,
   "metadata": {},
   "outputs": [
    {
     "data": {
      "text/plain": [
       "0    0.919271\n",
       "1    0.080729\n",
       "Name: TARGET, dtype: float64"
      ]
     },
     "execution_count": 5,
     "metadata": {},
     "output_type": "execute_result"
    }
   ],
   "source": [
    "app_data[\"TARGET\"].value_counts(normalize=True)"
   ]
  },
  {
   "cell_type": "code",
   "execution_count": 6,
   "metadata": {},
   "outputs": [
    {
     "data": {
      "image/png": "[encoded data removed]",
      "text/plain": [
       "<Figure size 432x288 with 1 Axes>"
      ]
     },
     "metadata": {
      "needs_background": "light"
     },
     "output_type": "display_data"
    }
   ],
   "source": [
    "app_data['TARGET'].astype(int).plot.hist();"
   ]
  },
  {
   "cell_type": "code",
   "execution_count": 7,
   "metadata": {},
   "outputs": [
    {
     "name": "stdout",
     "output_type": "stream",
     "text": [
      "SK_ID_CURR 0\n",
      "TARGET 0\n",
      "NAME_CONTRACT_TYPE 0\n",
      "CODE_GENDER 0\n",
      "FLAG_OWN_CAR 0\n",
      "FLAG_OWN_REALTY 0\n",
      "CNT_CHILDREN 0\n",
      "AMT_INCOME_TOTAL 0\n",
      "AMT_CREDIT 0\n",
      "AMT_ANNUITY 12\n",
      "AMT_GOODS_PRICE 278\n",
      "NAME_TYPE_SUITE 1292\n",
      "NAME_INCOME_TYPE 0\n",
      "NAME_EDUCATION_TYPE 0\n",
      "NAME_FAMILY_STATUS 0\n",
      "NAME_HOUSING_TYPE 0\n",
      "REGION_POPULATION_RELATIVE 0\n",
      "DAYS_BIRTH 0\n",
      "DAYS_EMPLOYED 0\n",
      "DAYS_REGISTRATION 0\n",
      "DAYS_ID_PUBLISH 0\n",
      "OWN_CAR_AGE 202929\n",
      "FLAG_MOBIL 0\n",
      "FLAG_EMP_PHONE 0\n",
      "FLAG_WORK_PHONE 0\n",
      "FLAG_CONT_MOBILE 0\n",
      "FLAG_PHONE 0\n",
      "FLAG_EMAIL 0\n",
      "OCCUPATION_TYPE 96391\n",
      "CNT_FAM_MEMBERS 2\n",
      "REGION_RATING_CLIENT 0\n",
      "REGION_RATING_CLIENT_W_CITY 0\n",
      "WEEKDAY_APPR_PROCESS_START 0\n",
      "HOUR_APPR_PROCESS_START 0\n",
      "REG_REGION_NOT_LIVE_REGION 0\n",
      "REG_REGION_NOT_WORK_REGION 0\n",
      "LIVE_REGION_NOT_WORK_REGION 0\n",
      "REG_CITY_NOT_LIVE_CITY 0\n",
      "REG_CITY_NOT_WORK_CITY 0\n",
      "LIVE_CITY_NOT_WORK_CITY 0\n",
      "ORGANIZATION_TYPE 0\n",
      "EXT_SOURCE_1 173378\n",
      "EXT_SOURCE_2 660\n",
      "EXT_SOURCE_3 60965\n",
      "APARTMENTS_AVG 156061\n",
      "BASEMENTAREA_AVG 179943\n",
      "YEARS_BEGINEXPLUATATION_AVG 150007\n",
      "YEARS_BUILD_AVG 204488\n",
      "COMMONAREA_AVG 214865\n",
      "ELEVATORS_AVG 163891\n",
      "ENTRANCES_AVG 154828\n",
      "FLOORSMAX_AVG 153020\n",
      "FLOORSMIN_AVG 208642\n",
      "LANDAREA_AVG 182590\n",
      "LIVINGAPARTMENTS_AVG 210199\n",
      "LIVINGAREA_AVG 154350\n",
      "NONLIVINGAPARTMENTS_AVG 213514\n",
      "NONLIVINGAREA_AVG 169682\n",
      "APARTMENTS_MODE 156061\n",
      "BASEMENTAREA_MODE 179943\n",
      "YEARS_BEGINEXPLUATATION_MODE 150007\n",
      "YEARS_BUILD_MODE 204488\n",
      "COMMONAREA_MODE 214865\n",
      "ELEVATORS_MODE 163891\n",
      "ENTRANCES_MODE 154828\n",
      "FLOORSMAX_MODE 153020\n",
      "FLOORSMIN_MODE 208642\n",
      "LANDAREA_MODE 182590\n",
      "LIVINGAPARTMENTS_MODE 210199\n",
      "LIVINGAREA_MODE 154350\n",
      "NONLIVINGAPARTMENTS_MODE 213514\n",
      "NONLIVINGAREA_MODE 169682\n",
      "APARTMENTS_MEDI 156061\n",
      "BASEMENTAREA_MEDI 179943\n",
      "YEARS_BEGINEXPLUATATION_MEDI 150007\n",
      "YEARS_BUILD_MEDI 204488\n",
      "COMMONAREA_MEDI 214865\n",
      "ELEVATORS_MEDI 163891\n",
      "ENTRANCES_MEDI 154828\n",
      "FLOORSMAX_MEDI 153020\n",
      "FLOORSMIN_MEDI 208642\n",
      "LANDAREA_MEDI 182590\n",
      "LIVINGAPARTMENTS_MEDI 210199\n",
      "LIVINGAREA_MEDI 154350\n",
      "NONLIVINGAPARTMENTS_MEDI 213514\n",
      "NONLIVINGAREA_MEDI 169682\n",
      "FONDKAPREMONT_MODE 210295\n",
      "HOUSETYPE_MODE 154297\n",
      "TOTALAREA_MODE 148431\n",
      "WALLSMATERIAL_MODE 156341\n",
      "EMERGENCYSTATE_MODE 145755\n",
      "OBS_30_CNT_SOCIAL_CIRCLE 1021\n",
      "DEF_30_CNT_SOCIAL_CIRCLE 1021\n",
      "OBS_60_CNT_SOCIAL_CIRCLE 1021\n",
      "DEF_60_CNT_SOCIAL_CIRCLE 1021\n",
      "DAYS_LAST_PHONE_CHANGE 1\n",
      "FLAG_DOCUMENT_2 0\n",
      "FLAG_DOCUMENT_3 0\n",
      "FLAG_DOCUMENT_4 0\n",
      "FLAG_DOCUMENT_5 0\n",
      "FLAG_DOCUMENT_6 0\n",
      "FLAG_DOCUMENT_7 0\n",
      "FLAG_DOCUMENT_8 0\n",
      "FLAG_DOCUMENT_9 0\n",
      "FLAG_DOCUMENT_10 0\n",
      "FLAG_DOCUMENT_11 0\n",
      "FLAG_DOCUMENT_12 0\n",
      "FLAG_DOCUMENT_13 0\n",
      "FLAG_DOCUMENT_14 0\n",
      "FLAG_DOCUMENT_15 0\n",
      "FLAG_DOCUMENT_16 0\n",
      "FLAG_DOCUMENT_17 0\n",
      "FLAG_DOCUMENT_18 0\n",
      "FLAG_DOCUMENT_19 0\n",
      "FLAG_DOCUMENT_20 0\n",
      "FLAG_DOCUMENT_21 0\n",
      "AMT_REQ_CREDIT_BUREAU_HOUR 41519\n",
      "AMT_REQ_CREDIT_BUREAU_DAY 41519\n",
      "AMT_REQ_CREDIT_BUREAU_WEEK 41519\n",
      "AMT_REQ_CREDIT_BUREAU_MON 41519\n",
      "AMT_REQ_CREDIT_BUREAU_QRT 41519\n",
      "AMT_REQ_CREDIT_BUREAU_YEAR 41519\n"
     ]
    }
   ],
   "source": [
    "# Data cleaning.\n",
    "\n",
    "null_count = app_data.isnull().sum().to_frame()\n",
    "for index, row in null_count.iterrows():\n",
    "    print(index, row[0])"
   ]
  },
  {
   "cell_type": "markdown",
   "metadata": {},
   "source": [
    " # Fixing rows and columns & Handling null values: \n",
    " \n",
    "From the above analysis of null values, we could see there are some columns with significant amount of null values.\n",
    "Either a column is Numerical or Categorical, we can delete the observations having null values in the dataset or the column that is having more number of null values.\n",
    "#.i.e more than half or 30%.\n",
    "# References for handling null values:  \n",
    "(https://medium.com/bycodegarage/a-comprehensive-guide-on-handling-missing-values-b1257a4866d1)\n",
    "\n"
   ]
  },
  {
   "cell_type": "code",
   "execution_count": 8,
   "metadata": {},
   "outputs": [
    {
     "name": "stdout",
     "output_type": "stream",
     "text": [
      "50\n",
      "OWN_CAR_AGE                     65.990810\n",
      "OCCUPATION_TYPE                 31.345545\n",
      "EXT_SOURCE_1                    56.381073\n",
      "APARTMENTS_AVG                  50.749729\n",
      "BASEMENTAREA_AVG                58.515956\n",
      "YEARS_BEGINEXPLUATATION_AVG     48.781019\n",
      "YEARS_BUILD_AVG                 66.497784\n",
      "COMMONAREA_AVG                  69.872297\n",
      "ELEVATORS_AVG                   53.295980\n",
      "ENTRANCES_AVG                   50.348768\n",
      "FLOORSMAX_AVG                   49.760822\n",
      "FLOORSMIN_AVG                   67.848630\n",
      "LANDAREA_AVG                    59.376738\n",
      "LIVINGAPARTMENTS_AVG            68.354953\n",
      "LIVINGAREA_AVG                  50.193326\n",
      "NONLIVINGAPARTMENTS_AVG         69.432963\n",
      "NONLIVINGAREA_AVG               55.179164\n",
      "APARTMENTS_MODE                 50.749729\n",
      "BASEMENTAREA_MODE               58.515956\n",
      "YEARS_BEGINEXPLUATATION_MODE    48.781019\n",
      "YEARS_BUILD_MODE                66.497784\n",
      "COMMONAREA_MODE                 69.872297\n",
      "ELEVATORS_MODE                  53.295980\n",
      "ENTRANCES_MODE                  50.348768\n",
      "FLOORSMAX_MODE                  49.760822\n",
      "FLOORSMIN_MODE                  67.848630\n",
      "LANDAREA_MODE                   59.376738\n",
      "LIVINGAPARTMENTS_MODE           68.354953\n",
      "LIVINGAREA_MODE                 50.193326\n",
      "NONLIVINGAPARTMENTS_MODE        69.432963\n",
      "NONLIVINGAREA_MODE              55.179164\n",
      "APARTMENTS_MEDI                 50.749729\n",
      "BASEMENTAREA_MEDI               58.515956\n",
      "YEARS_BEGINEXPLUATATION_MEDI    48.781019\n",
      "YEARS_BUILD_MEDI                66.497784\n",
      "COMMONAREA_MEDI                 69.872297\n",
      "ELEVATORS_MEDI                  53.295980\n",
      "ENTRANCES_MEDI                  50.348768\n",
      "FLOORSMAX_MEDI                  49.760822\n",
      "FLOORSMIN_MEDI                  67.848630\n",
      "LANDAREA_MEDI                   59.376738\n",
      "LIVINGAPARTMENTS_MEDI           68.354953\n",
      "LIVINGAREA_MEDI                 50.193326\n",
      "NONLIVINGAPARTMENTS_MEDI        69.432963\n",
      "NONLIVINGAREA_MEDI              55.179164\n",
      "FONDKAPREMONT_MODE              68.386172\n",
      "HOUSETYPE_MODE                  50.176091\n",
      "TOTALAREA_MODE                  48.268517\n",
      "WALLSMATERIAL_MODE              50.840783\n",
      "EMERGENCYSTATE_MODE             47.398304\n",
      "dtype: float64\n"
     ]
    }
   ],
   "source": [
    "#calculate the percentage of null values in columns.\n",
    "# Drop the columns with more than 30% of null values.\n",
    "\n",
    "cols_null = app_data.isnull().sum()/len(app_data)*100\n",
    "cols_null = cols_null[cols_null.values > 30.0]\n",
    "print(len(cols_null))\n",
    "print(cols_null)"
   ]
  },
  {
   "cell_type": "code",
   "execution_count": 9,
   "metadata": {},
   "outputs": [
    {
     "data": {
      "text/plain": [
       "['OWN_CAR_AGE',\n",
       " 'OCCUPATION_TYPE',\n",
       " 'EXT_SOURCE_1',\n",
       " 'APARTMENTS_AVG',\n",
       " 'BASEMENTAREA_AVG',\n",
       " 'YEARS_BEGINEXPLUATATION_AVG',\n",
       " 'YEARS_BUILD_AVG',\n",
       " 'COMMONAREA_AVG',\n",
       " 'ELEVATORS_AVG',\n",
       " 'ENTRANCES_AVG',\n",
       " 'FLOORSMAX_AVG',\n",
       " 'FLOORSMIN_AVG',\n",
       " 'LANDAREA_AVG',\n",
       " 'LIVINGAPARTMENTS_AVG',\n",
       " 'LIVINGAREA_AVG',\n",
       " 'NONLIVINGAPARTMENTS_AVG',\n",
       " 'NONLIVINGAREA_AVG',\n",
       " 'APARTMENTS_MODE',\n",
       " 'BASEMENTAREA_MODE',\n",
       " 'YEARS_BEGINEXPLUATATION_MODE',\n",
       " 'YEARS_BUILD_MODE',\n",
       " 'COMMONAREA_MODE',\n",
       " 'ELEVATORS_MODE',\n",
       " 'ENTRANCES_MODE',\n",
       " 'FLOORSMAX_MODE',\n",
       " 'FLOORSMIN_MODE',\n",
       " 'LANDAREA_MODE',\n",
       " 'LIVINGAPARTMENTS_MODE',\n",
       " 'LIVINGAREA_MODE',\n",
       " 'NONLIVINGAPARTMENTS_MODE',\n",
       " 'NONLIVINGAREA_MODE',\n",
       " 'APARTMENTS_MEDI',\n",
       " 'BASEMENTAREA_MEDI',\n",
       " 'YEARS_BEGINEXPLUATATION_MEDI',\n",
       " 'YEARS_BUILD_MEDI',\n",
       " 'COMMONAREA_MEDI',\n",
       " 'ELEVATORS_MEDI',\n",
       " 'ENTRANCES_MEDI',\n",
       " 'FLOORSMAX_MEDI',\n",
       " 'FLOORSMIN_MEDI',\n",
       " 'LANDAREA_MEDI',\n",
       " 'LIVINGAPARTMENTS_MEDI',\n",
       " 'LIVINGAREA_MEDI',\n",
       " 'NONLIVINGAPARTMENTS_MEDI',\n",
       " 'NONLIVINGAREA_MEDI',\n",
       " 'FONDKAPREMONT_MODE',\n",
       " 'HOUSETYPE_MODE',\n",
       " 'TOTALAREA_MODE',\n",
       " 'WALLSMATERIAL_MODE',\n",
       " 'EMERGENCYSTATE_MODE']"
      ]
     },
     "execution_count": 9,
     "metadata": {},
     "output_type": "execute_result"
    }
   ],
   "source": [
    "# fetch the columns with 30% or more null values.\n",
    "cols_null = list(cols_null[cols_null.values > 30.0].index)\n",
    "cols_null"
   ]
  },
  {
   "cell_type": "code",
   "execution_count": 10,
   "metadata": {},
   "outputs": [],
   "source": [
    "# Drop the columns:\n",
    "\n",
    "app_data.drop(columns=cols_null,axis=1,inplace=True)\n"
   ]
  },
  {
   "cell_type": "code",
   "execution_count": 11,
   "metadata": {},
   "outputs": [
    {
     "name": "stdout",
     "output_type": "stream",
     "text": [
      "<class 'pandas.core.frame.DataFrame'>\n",
      "RangeIndex: 307511 entries, 0 to 307510\n",
      "Data columns (total 72 columns):\n",
      " #   Column                       Non-Null Count   Dtype  \n",
      "---  ------                       --------------   -----  \n",
      " 0   SK_ID_CURR                   307511 non-null  int64  \n",
      " 1   TARGET                       307511 non-null  int64  \n",
      " 2   NAME_CONTRACT_TYPE           307511 non-null  object \n",
      " 3   CODE_GENDER                  307511 non-null  object \n",
      " 4   FLAG_OWN_CAR                 307511 non-null  object \n",
      " 5   FLAG_OWN_REALTY              307511 non-null  object \n",
      " 6   CNT_CHILDREN                 307511 non-null  int64  \n",
      " 7   AMT_INCOME_TOTAL             307511 non-null  float64\n",
      " 8   AMT_CREDIT                   307511 non-null  float64\n",
      " 9   AMT_ANNUITY                  307499 non-null  float64\n",
      " 10  AMT_GOODS_PRICE              307233 non-null  float64\n",
      " 11  NAME_TYPE_SUITE              306219 non-null  object \n",
      " 12  NAME_INCOME_TYPE             307511 non-null  object \n",
      " 13  NAME_EDUCATION_TYPE          307511 non-null  object \n",
      " 14  NAME_FAMILY_STATUS           307511 non-null  object \n",
      " 15  NAME_HOUSING_TYPE            307511 non-null  object \n",
      " 16  REGION_POPULATION_RELATIVE   307511 non-null  float64\n",
      " 17  DAYS_BIRTH                   307511 non-null  int64  \n",
      " 18  DAYS_EMPLOYED                307511 non-null  int64  \n",
      " 19  DAYS_REGISTRATION            307511 non-null  float64\n",
      " 20  DAYS_ID_PUBLISH              307511 non-null  int64  \n",
      " 21  FLAG_MOBIL                   307511 non-null  int64  \n",
      " 22  FLAG_EMP_PHONE               307511 non-null  int64  \n",
      " 23  FLAG_WORK_PHONE              307511 non-null  int64  \n",
      " 24  FLAG_CONT_MOBILE             307511 non-null  int64  \n",
      " 25  FLAG_PHONE                   307511 non-null  int64  \n",
      " 26  FLAG_EMAIL                   307511 non-null  int64  \n",
      " 27  CNT_FAM_MEMBERS              307509 non-null  float64\n",
      " 28  REGION_RATING_CLIENT         307511 non-null  int64  \n",
      " 29  REGION_RATING_CLIENT_W_CITY  307511 non-null  int64  \n",
      " 30  WEEKDAY_APPR_PROCESS_START   307511 non-null  object \n",
      " 31  HOUR_APPR_PROCESS_START      307511 non-null  int64  \n",
      " 32  REG_REGION_NOT_LIVE_REGION   307511 non-null  int64  \n",
      " 33  REG_REGION_NOT_WORK_REGION   307511 non-null  int64  \n",
      " 34  LIVE_REGION_NOT_WORK_REGION  307511 non-null  int64  \n",
      " 35  REG_CITY_NOT_LIVE_CITY       307511 non-null  int64  \n",
      " 36  REG_CITY_NOT_WORK_CITY       307511 non-null  int64  \n",
      " 37  LIVE_CITY_NOT_WORK_CITY      307511 non-null  int64  \n",
      " 38  ORGANIZATION_TYPE            307511 non-null  object \n",
      " 39  EXT_SOURCE_2                 306851 non-null  float64\n",
      " 40  EXT_SOURCE_3                 246546 non-null  float64\n",
      " 41  OBS_30_CNT_SOCIAL_CIRCLE     306490 non-null  float64\n",
      " 42  DEF_30_CNT_SOCIAL_CIRCLE     306490 non-null  float64\n",
      " 43  OBS_60_CNT_SOCIAL_CIRCLE     306490 non-null  float64\n",
      " 44  DEF_60_CNT_SOCIAL_CIRCLE     306490 non-null  float64\n",
      " 45  DAYS_LAST_PHONE_CHANGE       307510 non-null  float64\n",
      " 46  FLAG_DOCUMENT_2              307511 non-null  int64  \n",
      " 47  FLAG_DOCUMENT_3              307511 non-null  int64  \n",
      " 48  FLAG_DOCUMENT_4              307511 non-null  int64  \n",
      " 49  FLAG_DOCUMENT_5              307511 non-null  int64  \n",
      " 50  FLAG_DOCUMENT_6              307511 non-null  int64  \n",
      " 51  FLAG_DOCUMENT_7              307511 non-null  int64  \n",
      " 52  FLAG_DOCUMENT_8              307511 non-null  int64  \n",
      " 53  FLAG_DOCUMENT_9              307511 non-null  int64  \n",
      " 54  FLAG_DOCUMENT_10             307511 non-null  int64  \n",
      " 55  FLAG_DOCUMENT_11             307511 non-null  int64  \n",
      " 56  FLAG_DOCUMENT_12             307511 non-null  int64  \n",
      " 57  FLAG_DOCUMENT_13             307511 non-null  int64  \n",
      " 58  FLAG_DOCUMENT_14             307511 non-null  int64  \n",
      " 59  FLAG_DOCUMENT_15             307511 non-null  int64  \n",
      " 60  FLAG_DOCUMENT_16             307511 non-null  int64  \n",
      " 61  FLAG_DOCUMENT_17             307511 non-null  int64  \n",
      " 62  FLAG_DOCUMENT_18             307511 non-null  int64  \n",
      " 63  FLAG_DOCUMENT_19             307511 non-null  int64  \n",
      " 64  FLAG_DOCUMENT_20             307511 non-null  int64  \n",
      " 65  FLAG_DOCUMENT_21             307511 non-null  int64  \n",
      " 66  AMT_REQ_CREDIT_BUREAU_HOUR   265992 non-null  float64\n",
      " 67  AMT_REQ_CREDIT_BUREAU_DAY    265992 non-null  float64\n",
      " 68  AMT_REQ_CREDIT_BUREAU_WEEK   265992 non-null  float64\n",
      " 69  AMT_REQ_CREDIT_BUREAU_MON    265992 non-null  float64\n",
      " 70  AMT_REQ_CREDIT_BUREAU_QRT    265992 non-null  float64\n",
      " 71  AMT_REQ_CREDIT_BUREAU_YEAR   265992 non-null  float64\n",
      "dtypes: float64(20), int64(41), object(11)\n",
      "memory usage: 168.9+ MB\n"
     ]
    }
   ],
   "source": [
    "# Check the dataframe and null values again.\n",
    "app_data.info()"
   ]
  },
  {
   "cell_type": "code",
   "execution_count": 12,
   "metadata": {},
   "outputs": [
    {
     "name": "stdout",
     "output_type": "stream",
     "text": [
      "SK_ID_CURR 0\n",
      "TARGET 0\n",
      "NAME_CONTRACT_TYPE 0\n",
      "CODE_GENDER 0\n",
      "FLAG_OWN_CAR 0\n",
      "FLAG_OWN_REALTY 0\n",
      "CNT_CHILDREN 0\n",
      "AMT_INCOME_TOTAL 0\n",
      "AMT_CREDIT 0\n",
      "AMT_ANNUITY 12\n",
      "AMT_GOODS_PRICE 278\n",
      "NAME_TYPE_SUITE 1292\n",
      "NAME_INCOME_TYPE 0\n",
      "NAME_EDUCATION_TYPE 0\n",
      "NAME_FAMILY_STATUS 0\n",
      "NAME_HOUSING_TYPE 0\n",
      "REGION_POPULATION_RELATIVE 0\n",
      "DAYS_BIRTH 0\n",
      "DAYS_EMPLOYED 0\n",
      "DAYS_REGISTRATION 0\n",
      "DAYS_ID_PUBLISH 0\n",
      "FLAG_MOBIL 0\n",
      "FLAG_EMP_PHONE 0\n",
      "FLAG_WORK_PHONE 0\n",
      "FLAG_CONT_MOBILE 0\n",
      "FLAG_PHONE 0\n",
      "FLAG_EMAIL 0\n",
      "CNT_FAM_MEMBERS 2\n",
      "REGION_RATING_CLIENT 0\n",
      "REGION_RATING_CLIENT_W_CITY 0\n",
      "WEEKDAY_APPR_PROCESS_START 0\n",
      "HOUR_APPR_PROCESS_START 0\n",
      "REG_REGION_NOT_LIVE_REGION 0\n",
      "REG_REGION_NOT_WORK_REGION 0\n",
      "LIVE_REGION_NOT_WORK_REGION 0\n",
      "REG_CITY_NOT_LIVE_CITY 0\n",
      "REG_CITY_NOT_WORK_CITY 0\n",
      "LIVE_CITY_NOT_WORK_CITY 0\n",
      "ORGANIZATION_TYPE 0\n",
      "EXT_SOURCE_2 660\n",
      "EXT_SOURCE_3 60965\n",
      "OBS_30_CNT_SOCIAL_CIRCLE 1021\n",
      "DEF_30_CNT_SOCIAL_CIRCLE 1021\n",
      "OBS_60_CNT_SOCIAL_CIRCLE 1021\n",
      "DEF_60_CNT_SOCIAL_CIRCLE 1021\n",
      "DAYS_LAST_PHONE_CHANGE 1\n",
      "FLAG_DOCUMENT_2 0\n",
      "FLAG_DOCUMENT_3 0\n",
      "FLAG_DOCUMENT_4 0\n",
      "FLAG_DOCUMENT_5 0\n",
      "FLAG_DOCUMENT_6 0\n",
      "FLAG_DOCUMENT_7 0\n",
      "FLAG_DOCUMENT_8 0\n",
      "FLAG_DOCUMENT_9 0\n",
      "FLAG_DOCUMENT_10 0\n",
      "FLAG_DOCUMENT_11 0\n",
      "FLAG_DOCUMENT_12 0\n",
      "FLAG_DOCUMENT_13 0\n",
      "FLAG_DOCUMENT_14 0\n",
      "FLAG_DOCUMENT_15 0\n",
      "FLAG_DOCUMENT_16 0\n",
      "FLAG_DOCUMENT_17 0\n",
      "FLAG_DOCUMENT_18 0\n",
      "FLAG_DOCUMENT_19 0\n",
      "FLAG_DOCUMENT_20 0\n",
      "FLAG_DOCUMENT_21 0\n",
      "AMT_REQ_CREDIT_BUREAU_HOUR 41519\n",
      "AMT_REQ_CREDIT_BUREAU_DAY 41519\n",
      "AMT_REQ_CREDIT_BUREAU_WEEK 41519\n",
      "AMT_REQ_CREDIT_BUREAU_MON 41519\n",
      "AMT_REQ_CREDIT_BUREAU_QRT 41519\n",
      "AMT_REQ_CREDIT_BUREAU_YEAR 41519\n"
     ]
    }
   ],
   "source": [
    "# Check for null values again\n",
    "null_count = app_data.isnull().sum().to_frame()\n",
    "for index, row in null_count.iterrows():\n",
    "    print(index, row[0])"
   ]
  },
  {
   "cell_type": "code",
   "execution_count": 13,
   "metadata": {},
   "outputs": [
    {
     "name": "stdout",
     "output_type": "stream",
     "text": [
      "<class 'pandas.core.frame.DataFrame'>\n",
      "RangeIndex: 307511 entries, 0 to 307510\n",
      "Data columns (total 72 columns):\n",
      " #   Column                       Non-Null Count   Dtype  \n",
      "---  ------                       --------------   -----  \n",
      " 0   SK_ID_CURR                   307511 non-null  int64  \n",
      " 1   TARGET                       307511 non-null  int64  \n",
      " 2   NAME_CONTRACT_TYPE           307511 non-null  object \n",
      " 3   CODE_GENDER                  307511 non-null  object \n",
      " 4   FLAG_OWN_CAR                 307511 non-null  object \n",
      " 5   FLAG_OWN_REALTY              307511 non-null  object \n",
      " 6   CNT_CHILDREN                 307511 non-null  int64  \n",
      " 7   AMT_INCOME_TOTAL             307511 non-null  float64\n",
      " 8   AMT_CREDIT                   307511 non-null  float64\n",
      " 9   AMT_ANNUITY                  307499 non-null  float64\n",
      " 10  AMT_GOODS_PRICE              307233 non-null  float64\n",
      " 11  NAME_TYPE_SUITE              306219 non-null  object \n",
      " 12  NAME_INCOME_TYPE             307511 non-null  object \n",
      " 13  NAME_EDUCATION_TYPE          307511 non-null  object \n",
      " 14  NAME_FAMILY_STATUS           307511 non-null  object \n",
      " 15  NAME_HOUSING_TYPE            307511 non-null  object \n",
      " 16  REGION_POPULATION_RELATIVE   307511 non-null  float64\n",
      " 17  DAYS_BIRTH                   307511 non-null  int64  \n",
      " 18  DAYS_EMPLOYED                307511 non-null  int64  \n",
      " 19  DAYS_REGISTRATION            307511 non-null  float64\n",
      " 20  DAYS_ID_PUBLISH              307511 non-null  int64  \n",
      " 21  FLAG_MOBIL                   307511 non-null  int64  \n",
      " 22  FLAG_EMP_PHONE               307511 non-null  int64  \n",
      " 23  FLAG_WORK_PHONE              307511 non-null  int64  \n",
      " 24  FLAG_CONT_MOBILE             307511 non-null  int64  \n",
      " 25  FLAG_PHONE                   307511 non-null  int64  \n",
      " 26  FLAG_EMAIL                   307511 non-null  int64  \n",
      " 27  CNT_FAM_MEMBERS              307509 non-null  float64\n",
      " 28  REGION_RATING_CLIENT         307511 non-null  int64  \n",
      " 29  REGION_RATING_CLIENT_W_CITY  307511 non-null  int64  \n",
      " 30  WEEKDAY_APPR_PROCESS_START   307511 non-null  object \n",
      " 31  HOUR_APPR_PROCESS_START      307511 non-null  int64  \n",
      " 32  REG_REGION_NOT_LIVE_REGION   307511 non-null  int64  \n",
      " 33  REG_REGION_NOT_WORK_REGION   307511 non-null  int64  \n",
      " 34  LIVE_REGION_NOT_WORK_REGION  307511 non-null  int64  \n",
      " 35  REG_CITY_NOT_LIVE_CITY       307511 non-null  int64  \n",
      " 36  REG_CITY_NOT_WORK_CITY       307511 non-null  int64  \n",
      " 37  LIVE_CITY_NOT_WORK_CITY      307511 non-null  int64  \n",
      " 38  ORGANIZATION_TYPE            307511 non-null  object \n",
      " 39  EXT_SOURCE_2                 306851 non-null  float64\n",
      " 40  EXT_SOURCE_3                 246546 non-null  float64\n",
      " 41  OBS_30_CNT_SOCIAL_CIRCLE     306490 non-null  float64\n",
      " 42  DEF_30_CNT_SOCIAL_CIRCLE     306490 non-null  float64\n",
      " 43  OBS_60_CNT_SOCIAL_CIRCLE     306490 non-null  float64\n",
      " 44  DEF_60_CNT_SOCIAL_CIRCLE     306490 non-null  float64\n",
      " 45  DAYS_LAST_PHONE_CHANGE       307510 non-null  float64\n",
      " 46  FLAG_DOCUMENT_2              307511 non-null  int64  \n",
      " 47  FLAG_DOCUMENT_3              307511 non-null  int64  \n",
      " 48  FLAG_DOCUMENT_4              307511 non-null  int64  \n",
      " 49  FLAG_DOCUMENT_5              307511 non-null  int64  \n",
      " 50  FLAG_DOCUMENT_6              307511 non-null  int64  \n",
      " 51  FLAG_DOCUMENT_7              307511 non-null  int64  \n",
      " 52  FLAG_DOCUMENT_8              307511 non-null  int64  \n",
      " 53  FLAG_DOCUMENT_9              307511 non-null  int64  \n",
      " 54  FLAG_DOCUMENT_10             307511 non-null  int64  \n",
      " 55  FLAG_DOCUMENT_11             307511 non-null  int64  \n",
      " 56  FLAG_DOCUMENT_12             307511 non-null  int64  \n",
      " 57  FLAG_DOCUMENT_13             307511 non-null  int64  \n",
      " 58  FLAG_DOCUMENT_14             307511 non-null  int64  \n",
      " 59  FLAG_DOCUMENT_15             307511 non-null  int64  \n",
      " 60  FLAG_DOCUMENT_16             307511 non-null  int64  \n",
      " 61  FLAG_DOCUMENT_17             307511 non-null  int64  \n",
      " 62  FLAG_DOCUMENT_18             307511 non-null  int64  \n",
      " 63  FLAG_DOCUMENT_19             307511 non-null  int64  \n",
      " 64  FLAG_DOCUMENT_20             307511 non-null  int64  \n",
      " 65  FLAG_DOCUMENT_21             307511 non-null  int64  \n",
      " 66  AMT_REQ_CREDIT_BUREAU_HOUR   265992 non-null  float64\n",
      " 67  AMT_REQ_CREDIT_BUREAU_DAY    265992 non-null  float64\n",
      " 68  AMT_REQ_CREDIT_BUREAU_WEEK   265992 non-null  float64\n",
      " 69  AMT_REQ_CREDIT_BUREAU_MON    265992 non-null  float64\n",
      " 70  AMT_REQ_CREDIT_BUREAU_QRT    265992 non-null  float64\n",
      " 71  AMT_REQ_CREDIT_BUREAU_YEAR   265992 non-null  float64\n",
      "dtypes: float64(20), int64(41), object(11)\n",
      "memory usage: 168.9+ MB\n"
     ]
    }
   ],
   "source": [
    "app_data.info()"
   ]
  },
  {
   "cell_type": "code",
   "execution_count": 14,
   "metadata": {},
   "outputs": [
    {
     "data": {
      "text/plain": [
       "int64      41\n",
       "float64    20\n",
       "object     11\n",
       "dtype: int64"
      ]
     },
     "execution_count": 14,
     "metadata": {},
     "output_type": "execute_result"
    }
   ],
   "source": [
    "# Number of each type of column\n",
    "app_data.dtypes.value_counts()"
   ]
  },
  {
   "cell_type": "code",
   "execution_count": 15,
   "metadata": {},
   "outputs": [
    {
     "data": {
      "text/plain": [
       "NAME_CONTRACT_TYPE             2\n",
       "CODE_GENDER                    3\n",
       "FLAG_OWN_CAR                   2\n",
       "FLAG_OWN_REALTY                2\n",
       "NAME_TYPE_SUITE                7\n",
       "NAME_INCOME_TYPE               8\n",
       "NAME_EDUCATION_TYPE            5\n",
       "NAME_FAMILY_STATUS             6\n",
       "NAME_HOUSING_TYPE              6\n",
       "WEEKDAY_APPR_PROCESS_START     7\n",
       "ORGANIZATION_TYPE             58\n",
       "dtype: int64"
      ]
     },
     "execution_count": 15,
     "metadata": {},
     "output_type": "execute_result"
    }
   ],
   "source": [
    "# Number of unique classes in each object column\n",
    "app_data.select_dtypes('object').apply(pd.Series.nunique, axis = 0)"
   ]
  },
  {
   "cell_type": "code",
   "execution_count": 16,
   "metadata": {},
   "outputs": [
    {
     "data": {
      "text/plain": [
       "0    12\n",
       "Name: TARGET, dtype: int64"
      ]
     },
     "execution_count": 16,
     "metadata": {},
     "output_type": "execute_result"
    }
   ],
   "source": [
    "#Handling missing values \n",
    "app_data[app_data['AMT_ANNUITY'].isnull()].TARGET.value_counts()"
   ]
  },
  {
   "cell_type": "code",
   "execution_count": 17,
   "metadata": {},
   "outputs": [
    {
     "data": {
      "text/plain": [
       "count    307499.000000\n",
       "mean      27108.573909\n",
       "std       14493.737315\n",
       "min        1615.500000\n",
       "25%       16524.000000\n",
       "50%       24903.000000\n",
       "75%       34596.000000\n",
       "max      258025.500000\n",
       "Name: AMT_ANNUITY, dtype: float64"
      ]
     },
     "execution_count": 17,
     "metadata": {},
     "output_type": "execute_result"
    }
   ],
   "source": [
    "app_data['AMT_ANNUITY'].describe()"
   ]
  },
  {
   "cell_type": "code",
   "execution_count": 18,
   "metadata": {},
   "outputs": [
    {
     "data": {
      "text/plain": [
       "0.50    24903.0\n",
       "0.70    32004.0\n",
       "0.90    45954.0\n",
       "0.95    53325.0\n",
       "0.99    70006.5\n",
       "Name: AMT_ANNUITY, dtype: float64"
      ]
     },
     "execution_count": 18,
     "metadata": {},
     "output_type": "execute_result"
    }
   ],
   "source": [
    "# there are outliers.Hence checking the percentile values.\n",
    "app_data.AMT_ANNUITY.quantile([0.5,0.7,0.9,0.95,0.99])"
   ]
  },
  {
   "cell_type": "code",
   "execution_count": 19,
   "metadata": {},
   "outputs": [
    {
     "data": {
      "text/html": [
       "<div>\n",
       "<style scoped>\n",
       "    .dataframe tbody tr th:only-of-type {\n",
       "        vertical-align: middle;\n",
       "    }\n",
       "\n",
       "    .dataframe tbody tr th {\n",
       "        vertical-align: top;\n",
       "    }\n",
       "\n",
       "    .dataframe thead th {\n",
       "        text-align: right;\n",
       "    }\n",
       "</style>\n",
       "<table border=\"1\" class=\"dataframe\">\n",
       "  <thead>\n",
       "    <tr style=\"text-align: right;\">\n",
       "      <th></th>\n",
       "      <th>SK_ID_CURR</th>\n",
       "      <th>TARGET</th>\n",
       "      <th>NAME_CONTRACT_TYPE</th>\n",
       "      <th>CODE_GENDER</th>\n",
       "      <th>FLAG_OWN_CAR</th>\n",
       "      <th>FLAG_OWN_REALTY</th>\n",
       "      <th>CNT_CHILDREN</th>\n",
       "      <th>AMT_INCOME_TOTAL</th>\n",
       "      <th>AMT_CREDIT</th>\n",
       "      <th>AMT_ANNUITY</th>\n",
       "      <th>...</th>\n",
       "      <th>FLAG_DOCUMENT_18</th>\n",
       "      <th>FLAG_DOCUMENT_19</th>\n",
       "      <th>FLAG_DOCUMENT_20</th>\n",
       "      <th>FLAG_DOCUMENT_21</th>\n",
       "      <th>AMT_REQ_CREDIT_BUREAU_HOUR</th>\n",
       "      <th>AMT_REQ_CREDIT_BUREAU_DAY</th>\n",
       "      <th>AMT_REQ_CREDIT_BUREAU_WEEK</th>\n",
       "      <th>AMT_REQ_CREDIT_BUREAU_MON</th>\n",
       "      <th>AMT_REQ_CREDIT_BUREAU_QRT</th>\n",
       "      <th>AMT_REQ_CREDIT_BUREAU_YEAR</th>\n",
       "    </tr>\n",
       "  </thead>\n",
       "  <tbody>\n",
       "    <tr>\n",
       "      <th>60</th>\n",
       "      <td>100071</td>\n",
       "      <td>0</td>\n",
       "      <td>Cash loans</td>\n",
       "      <td>F</td>\n",
       "      <td>N</td>\n",
       "      <td>Y</td>\n",
       "      <td>0</td>\n",
       "      <td>180000.0</td>\n",
       "      <td>1663987.5</td>\n",
       "      <td>86989.5</td>\n",
       "      <td>...</td>\n",
       "      <td>0</td>\n",
       "      <td>0</td>\n",
       "      <td>0</td>\n",
       "      <td>0</td>\n",
       "      <td>0.0</td>\n",
       "      <td>0.0</td>\n",
       "      <td>0.0</td>\n",
       "      <td>2.0</td>\n",
       "      <td>0.0</td>\n",
       "      <td>1.0</td>\n",
       "    </tr>\n",
       "    <tr>\n",
       "      <th>112</th>\n",
       "      <td>100132</td>\n",
       "      <td>0</td>\n",
       "      <td>Cash loans</td>\n",
       "      <td>F</td>\n",
       "      <td>N</td>\n",
       "      <td>Y</td>\n",
       "      <td>0</td>\n",
       "      <td>202500.0</td>\n",
       "      <td>1136439.0</td>\n",
       "      <td>73611.0</td>\n",
       "      <td>...</td>\n",
       "      <td>0</td>\n",
       "      <td>0</td>\n",
       "      <td>0</td>\n",
       "      <td>0</td>\n",
       "      <td>0.0</td>\n",
       "      <td>0.0</td>\n",
       "      <td>0.0</td>\n",
       "      <td>0.0</td>\n",
       "      <td>0.0</td>\n",
       "      <td>1.0</td>\n",
       "    </tr>\n",
       "    <tr>\n",
       "      <th>189</th>\n",
       "      <td>100219</td>\n",
       "      <td>0</td>\n",
       "      <td>Cash loans</td>\n",
       "      <td>M</td>\n",
       "      <td>N</td>\n",
       "      <td>Y</td>\n",
       "      <td>1</td>\n",
       "      <td>315000.0</td>\n",
       "      <td>2250000.0</td>\n",
       "      <td>83515.5</td>\n",
       "      <td>...</td>\n",
       "      <td>0</td>\n",
       "      <td>0</td>\n",
       "      <td>0</td>\n",
       "      <td>0</td>\n",
       "      <td>0.0</td>\n",
       "      <td>0.0</td>\n",
       "      <td>0.0</td>\n",
       "      <td>0.0</td>\n",
       "      <td>0.0</td>\n",
       "      <td>3.0</td>\n",
       "    </tr>\n",
       "    <tr>\n",
       "      <th>191</th>\n",
       "      <td>100221</td>\n",
       "      <td>0</td>\n",
       "      <td>Cash loans</td>\n",
       "      <td>F</td>\n",
       "      <td>N</td>\n",
       "      <td>Y</td>\n",
       "      <td>0</td>\n",
       "      <td>225000.0</td>\n",
       "      <td>684054.0</td>\n",
       "      <td>77494.5</td>\n",
       "      <td>...</td>\n",
       "      <td>0</td>\n",
       "      <td>0</td>\n",
       "      <td>0</td>\n",
       "      <td>0</td>\n",
       "      <td>0.0</td>\n",
       "      <td>0.0</td>\n",
       "      <td>0.0</td>\n",
       "      <td>0.0</td>\n",
       "      <td>1.0</td>\n",
       "      <td>4.0</td>\n",
       "    </tr>\n",
       "    <tr>\n",
       "      <th>485</th>\n",
       "      <td>100559</td>\n",
       "      <td>0</td>\n",
       "      <td>Cash loans</td>\n",
       "      <td>F</td>\n",
       "      <td>Y</td>\n",
       "      <td>Y</td>\n",
       "      <td>0</td>\n",
       "      <td>450000.0</td>\n",
       "      <td>2286211.5</td>\n",
       "      <td>116266.5</td>\n",
       "      <td>...</td>\n",
       "      <td>0</td>\n",
       "      <td>0</td>\n",
       "      <td>0</td>\n",
       "      <td>0</td>\n",
       "      <td>NaN</td>\n",
       "      <td>NaN</td>\n",
       "      <td>NaN</td>\n",
       "      <td>NaN</td>\n",
       "      <td>NaN</td>\n",
       "      <td>NaN</td>\n",
       "    </tr>\n",
       "    <tr>\n",
       "      <th>...</th>\n",
       "      <td>...</td>\n",
       "      <td>...</td>\n",
       "      <td>...</td>\n",
       "      <td>...</td>\n",
       "      <td>...</td>\n",
       "      <td>...</td>\n",
       "      <td>...</td>\n",
       "      <td>...</td>\n",
       "      <td>...</td>\n",
       "      <td>...</td>\n",
       "      <td>...</td>\n",
       "      <td>...</td>\n",
       "      <td>...</td>\n",
       "      <td>...</td>\n",
       "      <td>...</td>\n",
       "      <td>...</td>\n",
       "      <td>...</td>\n",
       "      <td>...</td>\n",
       "      <td>...</td>\n",
       "      <td>...</td>\n",
       "      <td>...</td>\n",
       "    </tr>\n",
       "    <tr>\n",
       "      <th>307002</th>\n",
       "      <td>455682</td>\n",
       "      <td>0</td>\n",
       "      <td>Cash loans</td>\n",
       "      <td>M</td>\n",
       "      <td>Y</td>\n",
       "      <td>N</td>\n",
       "      <td>0</td>\n",
       "      <td>546250.5</td>\n",
       "      <td>1800000.0</td>\n",
       "      <td>166572.0</td>\n",
       "      <td>...</td>\n",
       "      <td>1</td>\n",
       "      <td>0</td>\n",
       "      <td>0</td>\n",
       "      <td>0</td>\n",
       "      <td>NaN</td>\n",
       "      <td>NaN</td>\n",
       "      <td>NaN</td>\n",
       "      <td>NaN</td>\n",
       "      <td>NaN</td>\n",
       "      <td>NaN</td>\n",
       "    </tr>\n",
       "    <tr>\n",
       "      <th>307055</th>\n",
       "      <td>455739</td>\n",
       "      <td>0</td>\n",
       "      <td>Cash loans</td>\n",
       "      <td>F</td>\n",
       "      <td>N</td>\n",
       "      <td>Y</td>\n",
       "      <td>0</td>\n",
       "      <td>112500.0</td>\n",
       "      <td>2032992.0</td>\n",
       "      <td>70794.0</td>\n",
       "      <td>...</td>\n",
       "      <td>0</td>\n",
       "      <td>0</td>\n",
       "      <td>0</td>\n",
       "      <td>0</td>\n",
       "      <td>0.0</td>\n",
       "      <td>0.0</td>\n",
       "      <td>0.0</td>\n",
       "      <td>0.0</td>\n",
       "      <td>0.0</td>\n",
       "      <td>5.0</td>\n",
       "    </tr>\n",
       "    <tr>\n",
       "      <th>307069</th>\n",
       "      <td>455759</td>\n",
       "      <td>0</td>\n",
       "      <td>Cash loans</td>\n",
       "      <td>F</td>\n",
       "      <td>N</td>\n",
       "      <td>Y</td>\n",
       "      <td>0</td>\n",
       "      <td>130500.0</td>\n",
       "      <td>1350000.0</td>\n",
       "      <td>70033.5</td>\n",
       "      <td>...</td>\n",
       "      <td>0</td>\n",
       "      <td>0</td>\n",
       "      <td>0</td>\n",
       "      <td>0</td>\n",
       "      <td>0.0</td>\n",
       "      <td>0.0</td>\n",
       "      <td>0.0</td>\n",
       "      <td>1.0</td>\n",
       "      <td>0.0</td>\n",
       "      <td>2.0</td>\n",
       "    </tr>\n",
       "    <tr>\n",
       "      <th>307165</th>\n",
       "      <td>455868</td>\n",
       "      <td>0</td>\n",
       "      <td>Cash loans</td>\n",
       "      <td>F</td>\n",
       "      <td>Y</td>\n",
       "      <td>Y</td>\n",
       "      <td>0</td>\n",
       "      <td>337500.0</td>\n",
       "      <td>1890000.0</td>\n",
       "      <td>71986.5</td>\n",
       "      <td>...</td>\n",
       "      <td>0</td>\n",
       "      <td>0</td>\n",
       "      <td>0</td>\n",
       "      <td>0</td>\n",
       "      <td>0.0</td>\n",
       "      <td>0.0</td>\n",
       "      <td>0.0</td>\n",
       "      <td>0.0</td>\n",
       "      <td>1.0</td>\n",
       "      <td>4.0</td>\n",
       "    </tr>\n",
       "    <tr>\n",
       "      <th>307392</th>\n",
       "      <td>456125</td>\n",
       "      <td>0</td>\n",
       "      <td>Cash loans</td>\n",
       "      <td>F</td>\n",
       "      <td>N</td>\n",
       "      <td>Y</td>\n",
       "      <td>0</td>\n",
       "      <td>315000.0</td>\n",
       "      <td>1391130.0</td>\n",
       "      <td>77809.5</td>\n",
       "      <td>...</td>\n",
       "      <td>0</td>\n",
       "      <td>0</td>\n",
       "      <td>0</td>\n",
       "      <td>0</td>\n",
       "      <td>0.0</td>\n",
       "      <td>0.0</td>\n",
       "      <td>0.0</td>\n",
       "      <td>0.0</td>\n",
       "      <td>0.0</td>\n",
       "      <td>0.0</td>\n",
       "    </tr>\n",
       "  </tbody>\n",
       "</table>\n",
       "<p>3081 rows × 72 columns</p>\n",
       "</div>"
      ],
      "text/plain": [
       "        SK_ID_CURR  TARGET NAME_CONTRACT_TYPE CODE_GENDER FLAG_OWN_CAR  \\\n",
       "60          100071       0         Cash loans           F            N   \n",
       "112         100132       0         Cash loans           F            N   \n",
       "189         100219       0         Cash loans           M            N   \n",
       "191         100221       0         Cash loans           F            N   \n",
       "485         100559       0         Cash loans           F            Y   \n",
       "...            ...     ...                ...         ...          ...   \n",
       "307002      455682       0         Cash loans           M            Y   \n",
       "307055      455739       0         Cash loans           F            N   \n",
       "307069      455759       0         Cash loans           F            N   \n",
       "307165      455868       0         Cash loans           F            Y   \n",
       "307392      456125       0         Cash loans           F            N   \n",
       "\n",
       "       FLAG_OWN_REALTY  CNT_CHILDREN  AMT_INCOME_TOTAL  AMT_CREDIT  \\\n",
       "60                   Y             0          180000.0   1663987.5   \n",
       "112                  Y             0          202500.0   1136439.0   \n",
       "189                  Y             1          315000.0   2250000.0   \n",
       "191                  Y             0          225000.0    684054.0   \n",
       "485                  Y             0          450000.0   2286211.5   \n",
       "...                ...           ...               ...         ...   \n",
       "307002               N             0          546250.5   1800000.0   \n",
       "307055               Y             0          112500.0   2032992.0   \n",
       "307069               Y             0          130500.0   1350000.0   \n",
       "307165               Y             0          337500.0   1890000.0   \n",
       "307392               Y             0          315000.0   1391130.0   \n",
       "\n",
       "        AMT_ANNUITY  ...  FLAG_DOCUMENT_18 FLAG_DOCUMENT_19 FLAG_DOCUMENT_20  \\\n",
       "60          86989.5  ...                 0                0                0   \n",
       "112         73611.0  ...                 0                0                0   \n",
       "189         83515.5  ...                 0                0                0   \n",
       "191         77494.5  ...                 0                0                0   \n",
       "485        116266.5  ...                 0                0                0   \n",
       "...             ...  ...               ...              ...              ...   \n",
       "307002     166572.0  ...                 1                0                0   \n",
       "307055      70794.0  ...                 0                0                0   \n",
       "307069      70033.5  ...                 0                0                0   \n",
       "307165      71986.5  ...                 0                0                0   \n",
       "307392      77809.5  ...                 0                0                0   \n",
       "\n",
       "       FLAG_DOCUMENT_21 AMT_REQ_CREDIT_BUREAU_HOUR AMT_REQ_CREDIT_BUREAU_DAY  \\\n",
       "60                    0                        0.0                       0.0   \n",
       "112                   0                        0.0                       0.0   \n",
       "189                   0                        0.0                       0.0   \n",
       "191                   0                        0.0                       0.0   \n",
       "485                   0                        NaN                       NaN   \n",
       "...                 ...                        ...                       ...   \n",
       "307002                0                        NaN                       NaN   \n",
       "307055                0                        0.0                       0.0   \n",
       "307069                0                        0.0                       0.0   \n",
       "307165                0                        0.0                       0.0   \n",
       "307392                0                        0.0                       0.0   \n",
       "\n",
       "        AMT_REQ_CREDIT_BUREAU_WEEK  AMT_REQ_CREDIT_BUREAU_MON  \\\n",
       "60                             0.0                        2.0   \n",
       "112                            0.0                        0.0   \n",
       "189                            0.0                        0.0   \n",
       "191                            0.0                        0.0   \n",
       "485                            NaN                        NaN   \n",
       "...                            ...                        ...   \n",
       "307002                         NaN                        NaN   \n",
       "307055                         0.0                        0.0   \n",
       "307069                         0.0                        1.0   \n",
       "307165                         0.0                        0.0   \n",
       "307392                         0.0                        0.0   \n",
       "\n",
       "        AMT_REQ_CREDIT_BUREAU_QRT  AMT_REQ_CREDIT_BUREAU_YEAR  \n",
       "60                            0.0                         1.0  \n",
       "112                           0.0                         1.0  \n",
       "189                           0.0                         3.0  \n",
       "191                           1.0                         4.0  \n",
       "485                           NaN                         NaN  \n",
       "...                           ...                         ...  \n",
       "307002                        NaN                         NaN  \n",
       "307055                        0.0                         5.0  \n",
       "307069                        0.0                         2.0  \n",
       "307165                        1.0                         4.0  \n",
       "307392                        0.0                         0.0  \n",
       "\n",
       "[3081 rows x 72 columns]"
      ]
     },
     "execution_count": 19,
     "metadata": {},
     "output_type": "execute_result"
    }
   ],
   "source": [
    "app_data[app_data['AMT_ANNUITY'] >= 70006.5]"
   ]
  },
  {
   "cell_type": "markdown",
   "metadata": {},
   "source": [
    "Since there are outliers in the data, mean will be affected hence imputing with median values.<br>\n",
    "(This can be left as null also as the amount of null value is very low)"
   ]
  },
  {
   "cell_type": "code",
   "execution_count": 20,
   "metadata": {},
   "outputs": [],
   "source": [
    "# Since there are outliers in the data, mean will be affected hence imputing with median values.\n",
    "AMT_ANNUITY_FILL = app_data['AMT_ANNUITY'].median()\n",
    "app_data['AMT_ANNUITY'].fillna(value = AMT_ANNUITY_FILL, inplace =True)"
   ]
  },
  {
   "cell_type": "code",
   "execution_count": 21,
   "metadata": {},
   "outputs": [
    {
     "name": "stdout",
     "output_type": "stream",
     "text": [
      "<class 'pandas.core.frame.DataFrame'>\n",
      "RangeIndex: 307511 entries, 0 to 307510\n",
      "Data columns (total 72 columns):\n",
      " #   Column                       Non-Null Count   Dtype  \n",
      "---  ------                       --------------   -----  \n",
      " 0   SK_ID_CURR                   307511 non-null  int64  \n",
      " 1   TARGET                       307511 non-null  int64  \n",
      " 2   NAME_CONTRACT_TYPE           307511 non-null  object \n",
      " 3   CODE_GENDER                  307511 non-null  object \n",
      " 4   FLAG_OWN_CAR                 307511 non-null  object \n",
      " 5   FLAG_OWN_REALTY              307511 non-null  object \n",
      " 6   CNT_CHILDREN                 307511 non-null  int64  \n",
      " 7   AMT_INCOME_TOTAL             307511 non-null  float64\n",
      " 8   AMT_CREDIT                   307511 non-null  float64\n",
      " 9   AMT_ANNUITY                  307511 non-null  float64\n",
      " 10  AMT_GOODS_PRICE              307233 non-null  float64\n",
      " 11  NAME_TYPE_SUITE              306219 non-null  object \n",
      " 12  NAME_INCOME_TYPE             307511 non-null  object \n",
      " 13  NAME_EDUCATION_TYPE          307511 non-null  object \n",
      " 14  NAME_FAMILY_STATUS           307511 non-null  object \n",
      " 15  NAME_HOUSING_TYPE            307511 non-null  object \n",
      " 16  REGION_POPULATION_RELATIVE   307511 non-null  float64\n",
      " 17  DAYS_BIRTH                   307511 non-null  int64  \n",
      " 18  DAYS_EMPLOYED                307511 non-null  int64  \n",
      " 19  DAYS_REGISTRATION            307511 non-null  float64\n",
      " 20  DAYS_ID_PUBLISH              307511 non-null  int64  \n",
      " 21  FLAG_MOBIL                   307511 non-null  int64  \n",
      " 22  FLAG_EMP_PHONE               307511 non-null  int64  \n",
      " 23  FLAG_WORK_PHONE              307511 non-null  int64  \n",
      " 24  FLAG_CONT_MOBILE             307511 non-null  int64  \n",
      " 25  FLAG_PHONE                   307511 non-null  int64  \n",
      " 26  FLAG_EMAIL                   307511 non-null  int64  \n",
      " 27  CNT_FAM_MEMBERS              307509 non-null  float64\n",
      " 28  REGION_RATING_CLIENT         307511 non-null  int64  \n",
      " 29  REGION_RATING_CLIENT_W_CITY  307511 non-null  int64  \n",
      " 30  WEEKDAY_APPR_PROCESS_START   307511 non-null  object \n",
      " 31  HOUR_APPR_PROCESS_START      307511 non-null  int64  \n",
      " 32  REG_REGION_NOT_LIVE_REGION   307511 non-null  int64  \n",
      " 33  REG_REGION_NOT_WORK_REGION   307511 non-null  int64  \n",
      " 34  LIVE_REGION_NOT_WORK_REGION  307511 non-null  int64  \n",
      " 35  REG_CITY_NOT_LIVE_CITY       307511 non-null  int64  \n",
      " 36  REG_CITY_NOT_WORK_CITY       307511 non-null  int64  \n",
      " 37  LIVE_CITY_NOT_WORK_CITY      307511 non-null  int64  \n",
      " 38  ORGANIZATION_TYPE            307511 non-null  object \n",
      " 39  EXT_SOURCE_2                 306851 non-null  float64\n",
      " 40  EXT_SOURCE_3                 246546 non-null  float64\n",
      " 41  OBS_30_CNT_SOCIAL_CIRCLE     306490 non-null  float64\n",
      " 42  DEF_30_CNT_SOCIAL_CIRCLE     306490 non-null  float64\n",
      " 43  OBS_60_CNT_SOCIAL_CIRCLE     306490 non-null  float64\n",
      " 44  DEF_60_CNT_SOCIAL_CIRCLE     306490 non-null  float64\n",
      " 45  DAYS_LAST_PHONE_CHANGE       307510 non-null  float64\n",
      " 46  FLAG_DOCUMENT_2              307511 non-null  int64  \n",
      " 47  FLAG_DOCUMENT_3              307511 non-null  int64  \n",
      " 48  FLAG_DOCUMENT_4              307511 non-null  int64  \n",
      " 49  FLAG_DOCUMENT_5              307511 non-null  int64  \n",
      " 50  FLAG_DOCUMENT_6              307511 non-null  int64  \n",
      " 51  FLAG_DOCUMENT_7              307511 non-null  int64  \n",
      " 52  FLAG_DOCUMENT_8              307511 non-null  int64  \n",
      " 53  FLAG_DOCUMENT_9              307511 non-null  int64  \n",
      " 54  FLAG_DOCUMENT_10             307511 non-null  int64  \n",
      " 55  FLAG_DOCUMENT_11             307511 non-null  int64  \n",
      " 56  FLAG_DOCUMENT_12             307511 non-null  int64  \n",
      " 57  FLAG_DOCUMENT_13             307511 non-null  int64  \n",
      " 58  FLAG_DOCUMENT_14             307511 non-null  int64  \n",
      " 59  FLAG_DOCUMENT_15             307511 non-null  int64  \n",
      " 60  FLAG_DOCUMENT_16             307511 non-null  int64  \n",
      " 61  FLAG_DOCUMENT_17             307511 non-null  int64  \n",
      " 62  FLAG_DOCUMENT_18             307511 non-null  int64  \n",
      " 63  FLAG_DOCUMENT_19             307511 non-null  int64  \n",
      " 64  FLAG_DOCUMENT_20             307511 non-null  int64  \n",
      " 65  FLAG_DOCUMENT_21             307511 non-null  int64  \n",
      " 66  AMT_REQ_CREDIT_BUREAU_HOUR   265992 non-null  float64\n",
      " 67  AMT_REQ_CREDIT_BUREAU_DAY    265992 non-null  float64\n",
      " 68  AMT_REQ_CREDIT_BUREAU_WEEK   265992 non-null  float64\n",
      " 69  AMT_REQ_CREDIT_BUREAU_MON    265992 non-null  float64\n",
      " 70  AMT_REQ_CREDIT_BUREAU_QRT    265992 non-null  float64\n",
      " 71  AMT_REQ_CREDIT_BUREAU_YEAR   265992 non-null  float64\n",
      "dtypes: float64(20), int64(41), object(11)\n",
      "memory usage: 168.9+ MB\n"
     ]
    }
   ],
   "source": [
    "# Check the data again.\n",
    "app_data.info()"
   ]
  },
  {
   "cell_type": "code",
   "execution_count": 22,
   "metadata": {},
   "outputs": [],
   "source": [
    "# Null value handling:CNT_FAM_MEMBERS.\n",
    "# Converting the data to integer as it can't be float.\n",
    "CNT_FAM_MEMBERS_mode = app_data.CNT_FAM_MEMBERS.mode()[0]\n",
    "app_data.CNT_FAM_MEMBERS.fillna(CNT_FAM_MEMBERS_mode,inplace = True)\n",
    "app_data['CNT_FAM_MEMBERS'] = app_data['CNT_FAM_MEMBERS'].astype(int)"
   ]
  },
  {
   "cell_type": "code",
   "execution_count": 23,
   "metadata": {},
   "outputs": [
    {
     "data": {
      "text/plain": [
       "0"
      ]
     },
     "execution_count": 23,
     "metadata": {},
     "output_type": "execute_result"
    }
   ],
   "source": [
    "# Check the data again.\n",
    "app_data.CNT_FAM_MEMBERS.isnull().sum()"
   ]
  },
  {
   "cell_type": "code",
   "execution_count": 24,
   "metadata": {},
   "outputs": [
    {
     "name": "stdout",
     "output_type": "stream",
     "text": [
      "<class 'pandas.core.frame.DataFrame'>\n",
      "RangeIndex: 307511 entries, 0 to 307510\n",
      "Data columns (total 72 columns):\n",
      " #   Column                       Non-Null Count   Dtype  \n",
      "---  ------                       --------------   -----  \n",
      " 0   SK_ID_CURR                   307511 non-null  int64  \n",
      " 1   TARGET                       307511 non-null  int64  \n",
      " 2   NAME_CONTRACT_TYPE           307511 non-null  object \n",
      " 3   CODE_GENDER                  307511 non-null  object \n",
      " 4   FLAG_OWN_CAR                 307511 non-null  object \n",
      " 5   FLAG_OWN_REALTY              307511 non-null  object \n",
      " 6   CNT_CHILDREN                 307511 non-null  int64  \n",
      " 7   AMT_INCOME_TOTAL             307511 non-null  float64\n",
      " 8   AMT_CREDIT                   307511 non-null  float64\n",
      " 9   AMT_ANNUITY                  307511 non-null  float64\n",
      " 10  AMT_GOODS_PRICE              307233 non-null  float64\n",
      " 11  NAME_TYPE_SUITE              306219 non-null  object \n",
      " 12  NAME_INCOME_TYPE             307511 non-null  object \n",
      " 13  NAME_EDUCATION_TYPE          307511 non-null  object \n",
      " 14  NAME_FAMILY_STATUS           307511 non-null  object \n",
      " 15  NAME_HOUSING_TYPE            307511 non-null  object \n",
      " 16  REGION_POPULATION_RELATIVE   307511 non-null  float64\n",
      " 17  DAYS_BIRTH                   307511 non-null  int64  \n",
      " 18  DAYS_EMPLOYED                307511 non-null  int64  \n",
      " 19  DAYS_REGISTRATION            307511 non-null  float64\n",
      " 20  DAYS_ID_PUBLISH              307511 non-null  int64  \n",
      " 21  FLAG_MOBIL                   307511 non-null  int64  \n",
      " 22  FLAG_EMP_PHONE               307511 non-null  int64  \n",
      " 23  FLAG_WORK_PHONE              307511 non-null  int64  \n",
      " 24  FLAG_CONT_MOBILE             307511 non-null  int64  \n",
      " 25  FLAG_PHONE                   307511 non-null  int64  \n",
      " 26  FLAG_EMAIL                   307511 non-null  int64  \n",
      " 27  CNT_FAM_MEMBERS              307511 non-null  int32  \n",
      " 28  REGION_RATING_CLIENT         307511 non-null  int64  \n",
      " 29  REGION_RATING_CLIENT_W_CITY  307511 non-null  int64  \n",
      " 30  WEEKDAY_APPR_PROCESS_START   307511 non-null  object \n",
      " 31  HOUR_APPR_PROCESS_START      307511 non-null  int64  \n",
      " 32  REG_REGION_NOT_LIVE_REGION   307511 non-null  int64  \n",
      " 33  REG_REGION_NOT_WORK_REGION   307511 non-null  int64  \n",
      " 34  LIVE_REGION_NOT_WORK_REGION  307511 non-null  int64  \n",
      " 35  REG_CITY_NOT_LIVE_CITY       307511 non-null  int64  \n",
      " 36  REG_CITY_NOT_WORK_CITY       307511 non-null  int64  \n",
      " 37  LIVE_CITY_NOT_WORK_CITY      307511 non-null  int64  \n",
      " 38  ORGANIZATION_TYPE            307511 non-null  object \n",
      " 39  EXT_SOURCE_2                 306851 non-null  float64\n",
      " 40  EXT_SOURCE_3                 246546 non-null  float64\n",
      " 41  OBS_30_CNT_SOCIAL_CIRCLE     306490 non-null  float64\n",
      " 42  DEF_30_CNT_SOCIAL_CIRCLE     306490 non-null  float64\n",
      " 43  OBS_60_CNT_SOCIAL_CIRCLE     306490 non-null  float64\n",
      " 44  DEF_60_CNT_SOCIAL_CIRCLE     306490 non-null  float64\n",
      " 45  DAYS_LAST_PHONE_CHANGE       307510 non-null  float64\n",
      " 46  FLAG_DOCUMENT_2              307511 non-null  int64  \n",
      " 47  FLAG_DOCUMENT_3              307511 non-null  int64  \n",
      " 48  FLAG_DOCUMENT_4              307511 non-null  int64  \n",
      " 49  FLAG_DOCUMENT_5              307511 non-null  int64  \n",
      " 50  FLAG_DOCUMENT_6              307511 non-null  int64  \n",
      " 51  FLAG_DOCUMENT_7              307511 non-null  int64  \n",
      " 52  FLAG_DOCUMENT_8              307511 non-null  int64  \n",
      " 53  FLAG_DOCUMENT_9              307511 non-null  int64  \n",
      " 54  FLAG_DOCUMENT_10             307511 non-null  int64  \n",
      " 55  FLAG_DOCUMENT_11             307511 non-null  int64  \n",
      " 56  FLAG_DOCUMENT_12             307511 non-null  int64  \n",
      " 57  FLAG_DOCUMENT_13             307511 non-null  int64  \n",
      " 58  FLAG_DOCUMENT_14             307511 non-null  int64  \n",
      " 59  FLAG_DOCUMENT_15             307511 non-null  int64  \n",
      " 60  FLAG_DOCUMENT_16             307511 non-null  int64  \n",
      " 61  FLAG_DOCUMENT_17             307511 non-null  int64  \n",
      " 62  FLAG_DOCUMENT_18             307511 non-null  int64  \n",
      " 63  FLAG_DOCUMENT_19             307511 non-null  int64  \n",
      " 64  FLAG_DOCUMENT_20             307511 non-null  int64  \n",
      " 65  FLAG_DOCUMENT_21             307511 non-null  int64  \n",
      " 66  AMT_REQ_CREDIT_BUREAU_HOUR   265992 non-null  float64\n",
      " 67  AMT_REQ_CREDIT_BUREAU_DAY    265992 non-null  float64\n",
      " 68  AMT_REQ_CREDIT_BUREAU_WEEK   265992 non-null  float64\n",
      " 69  AMT_REQ_CREDIT_BUREAU_MON    265992 non-null  float64\n",
      " 70  AMT_REQ_CREDIT_BUREAU_QRT    265992 non-null  float64\n",
      " 71  AMT_REQ_CREDIT_BUREAU_YEAR   265992 non-null  float64\n",
      "dtypes: float64(19), int32(1), int64(41), object(11)\n",
      "memory usage: 167.7+ MB\n"
     ]
    }
   ],
   "source": [
    "app_data.info()"
   ]
  },
  {
   "cell_type": "code",
   "execution_count": 25,
   "metadata": {},
   "outputs": [
    {
     "data": {
      "text/plain": [
       "F      202448\n",
       "M      105059\n",
       "XNA         4\n",
       "Name: CODE_GENDER, dtype: int64"
      ]
     },
     "execution_count": 25,
     "metadata": {},
     "output_type": "execute_result"
    }
   ],
   "source": [
    "app_data['CODE_GENDER'].value_counts()"
   ]
  },
  {
   "cell_type": "code",
   "execution_count": 26,
   "metadata": {},
   "outputs": [],
   "source": [
    "gender_mode = app_data.CODE_GENDER.mode()[0]\n",
    "gender_mode\n",
    "app_data.CODE_GENDER = app_data.CODE_GENDER.replace('XNA',gender_mode)"
   ]
  },
  {
   "cell_type": "markdown",
   "metadata": {},
   "source": [
    "Handling missing vaues of categorical variables. Missing values may not be present always as null. \"XNA\" is a missing value. Since CODE_GENDER is a categorical column replacing it with mode."
   ]
  },
  {
   "cell_type": "code",
   "execution_count": 27,
   "metadata": {},
   "outputs": [
    {
     "data": {
      "text/plain": [
       "F    202452\n",
       "M    105059\n",
       "Name: CODE_GENDER, dtype: int64"
      ]
     },
     "execution_count": 27,
     "metadata": {},
     "output_type": "execute_result"
    }
   ],
   "source": [
    "app_data['CODE_GENDER'].value_counts()"
   ]
  },
  {
   "cell_type": "code",
   "execution_count": 28,
   "metadata": {},
   "outputs": [
    {
     "data": {
      "text/plain": [
       "1"
      ]
     },
     "execution_count": 28,
     "metadata": {},
     "output_type": "execute_result"
    }
   ],
   "source": [
    "app_data['DAYS_LAST_PHONE_CHANGE'].isnull().sum()"
   ]
  },
  {
   "cell_type": "markdown",
   "metadata": {},
   "source": [
    "DAYS_LAST_PHONE_CHANGE . Null value is not replaced as there is only one record and doent seems to have an influence on the target variable."
   ]
  },
  {
   "cell_type": "markdown",
   "metadata": {},
   "source": [
    "# Handling Anomalies "
   ]
  },
  {
   "cell_type": "code",
   "execution_count": 29,
   "metadata": {},
   "outputs": [],
   "source": [
    "# DAYS_BIRTH: This field has only negative values. In ideal case this has to be consulted with business. <br>\n",
    "# Time being since its all negative numbers we assume this can be converted to positive. <br>\n",
    "\n",
    "app_data['DAYS_BIRTH'] = app_data['DAYS_BIRTH'].abs()\n",
    "app_data['DAYS_BIRTH_YEAR'] = app_data['DAYS_BIRTH'].apply(lambda x: int(x/365) )\n"
   ]
  },
  {
   "cell_type": "code",
   "execution_count": 30,
   "metadata": {},
   "outputs": [
    {
     "data": {
      "text/plain": [
       "count    307511.000000\n",
       "mean      16036.995067\n",
       "std        4363.988632\n",
       "min        7489.000000\n",
       "25%       12413.000000\n",
       "50%       15750.000000\n",
       "75%       19682.000000\n",
       "max       25229.000000\n",
       "Name: DAYS_BIRTH, dtype: float64"
      ]
     },
     "execution_count": 30,
     "metadata": {},
     "output_type": "execute_result"
    }
   ],
   "source": [
    "app_data['DAYS_BIRTH'].describe()"
   ]
  },
  {
   "cell_type": "code",
   "execution_count": 31,
   "metadata": {},
   "outputs": [
    {
     "data": {
      "image/png": "[encoded data removed]",
      "text/plain": [
       "<Figure size 576x144 with 1 Axes>"
      ]
     },
     "metadata": {
      "needs_background": "light"
     },
     "output_type": "display_data"
    }
   ],
   "source": [
    "plt.figure(figsize = [8,2])\n",
    "sns.boxplot(app_data['DAYS_BIRTH'])\n",
    "\n",
    "plt.show()"
   ]
  },
  {
   "cell_type": "code",
   "execution_count": 32,
   "metadata": {},
   "outputs": [
    {
     "data": {
      "text/plain": [
       "count    307511.000000\n",
       "mean      63815.045904\n",
       "std      141275.766519\n",
       "min      -17912.000000\n",
       "25%       -2760.000000\n",
       "50%       -1213.000000\n",
       "75%        -289.000000\n",
       "max      365243.000000\n",
       "Name: DAYS_EMPLOYED, dtype: float64"
      ]
     },
     "execution_count": 32,
     "metadata": {},
     "output_type": "execute_result"
    }
   ],
   "source": [
    "app_data['DAYS_EMPLOYED'].describe()"
   ]
  },
  {
   "cell_type": "code",
   "execution_count": 33,
   "metadata": {},
   "outputs": [
    {
     "data": {
      "image/png": "[encoded data removed]",
      "text/plain": [
       "<Figure size 432x288 with 1 Axes>"
      ]
     },
     "metadata": {
      "needs_background": "light"
     },
     "output_type": "display_data"
    }
   ],
   "source": [
    "app_data['DAYS_EMPLOYED'].plot.hist(title = 'Days Employment Histogram');\n",
    "plt.xlabel('Days Employment');"
   ]
  },
  {
   "cell_type": "code",
   "execution_count": 34,
   "metadata": {},
   "outputs": [
    {
     "name": "stdout",
     "output_type": "stream",
     "text": [
      "The non-anomalies default on 8.66% of loans\n",
      "The anomalies default on 5.40% of loans\n",
      "There are 55374 anomalous days of employment\n"
     ]
    }
   ],
   "source": [
    "anom = app_data[app_data['DAYS_EMPLOYED'] == 365243]\n",
    "non_anom = app_data[app_data['DAYS_EMPLOYED'] != 365243]\n",
    "print('The non-anomalies default on %0.2f%% of loans' % (100 * non_anom['TARGET'].mean()))\n",
    "print('The anomalies default on %0.2f%% of loans' % (100 * anom['TARGET'].mean()))\n",
    "print('There are %d anomalous days of employment' % len(anom))"
   ]
  },
  {
   "cell_type": "code",
   "execution_count": 35,
   "metadata": {},
   "outputs": [
    {
     "data": {
      "image/png": "[encoded data removed]",
      "text/plain": [
       "<Figure size 432x288 with 1 Axes>"
      ]
     },
     "metadata": {
      "needs_background": "light"
     },
     "output_type": "display_data"
    }
   ],
   "source": [
    "# Create an anomalous flag column\n",
    "app_data['DAYS_EMPLOYED_ANOM'] = app_data[\"DAYS_EMPLOYED\"] == 365243\n",
    "\n",
    "# Replace the anomalous values with nan\n",
    "app_data['DAYS_EMPLOYED'].replace({365243: np.nan}, inplace = True)\n",
    "\n",
    "app_data['DAYS_EMPLOYED'].plot.hist(title = 'Days Employment Histogram');\n",
    "plt.xlabel('Days Employment');"
   ]
  },
  {
   "cell_type": "code",
   "execution_count": 36,
   "metadata": {},
   "outputs": [
    {
     "data": {
      "text/plain": [
       "count    3.075110e+05\n",
       "mean     1.687979e+05\n",
       "std      2.371231e+05\n",
       "min      2.565000e+04\n",
       "25%      1.125000e+05\n",
       "50%      1.471500e+05\n",
       "75%      2.025000e+05\n",
       "max      1.170000e+08\n",
       "Name: AMT_INCOME_TOTAL, dtype: float64"
      ]
     },
     "execution_count": 36,
     "metadata": {},
     "output_type": "execute_result"
    }
   ],
   "source": [
    "app_data.AMT_INCOME_TOTAL.describe()"
   ]
  },
  {
   "cell_type": "code",
   "execution_count": 37,
   "metadata": {},
   "outputs": [
    {
     "data": {
      "text/plain": [
       "count       307511.0\n",
       "mean        168797.9\n",
       "std         237123.1\n",
       "min          25650.0\n",
       "25%         112500.0\n",
       "50%         147150.0\n",
       "75%         202500.0\n",
       "max      117000000.0\n",
       "Name: AMT_INCOME_TOTAL, dtype: object"
      ]
     },
     "execution_count": 37,
     "metadata": {},
     "output_type": "execute_result"
    }
   ],
   "source": [
    "#correcting the display of describe function\n",
    "app_data['AMT_INCOME_TOTAL'].describe().apply(\"{0:.1f}\".format)"
   ]
  },
  {
   "cell_type": "code",
   "execution_count": 38,
   "metadata": {},
   "outputs": [
    {
     "data": {
      "text/plain": [
       "0.50    147150.0\n",
       "0.70    180000.0\n",
       "0.90    270000.0\n",
       "0.95    337500.0\n",
       "0.99    472500.0\n",
       "Name: AMT_INCOME_TOTAL, dtype: float64"
      ]
     },
     "execution_count": 38,
     "metadata": {},
     "output_type": "execute_result"
    }
   ],
   "source": [
    "# To get a better understanding using quantile function.\n",
    "app_data.AMT_INCOME_TOTAL.quantile([0.5,0.7,0.9,0.95,0.99])"
   ]
  },
  {
   "cell_type": "code",
   "execution_count": 39,
   "metadata": {},
   "outputs": [],
   "source": [
    "# Since there is a wide spread for income amount, binning the values so as to get a better insight\n",
    "# Treating numeric variables as categories.\n",
    "income_bins = [0,25000,50000,75000,100000,125000,150000,175000,200000,225000,250000,275000,300000,325000,350000,375000,400000,425000,450000,475000,500000,10000000000]\n",
    "income_slot = ['0-25000', '25000-50000','50000-75000','75000,100000','100000-125000', '125000-150000', '150000-175000','175000-200000',\n",
    "               '200000-225000','225000-250000','250000-275000','275000-300000','300000-325000','325000-350000','350000-375000',\n",
    "               '375000-400000','400000-425000','425000-450000','450000-475000','475000-500000','500000 and above']\n",
    "\n",
    "app_data['AMT_INCOME_BINS'] = pd.cut(app_data['AMT_INCOME_TOTAL'],income_bins,labels=income_slot)"
   ]
  },
  {
   "cell_type": "code",
   "execution_count": 40,
   "metadata": {},
   "outputs": [],
   "source": [
    "# Creating bins for ages\n",
    "age_bins = [0,25,40,55,70]\n",
    "age_slot = ['<25','25-40','40-55','>50']\n",
    "app_data['DAYS_BIRTH_YEAR'] = pd.cut(app_data['DAYS_BIRTH_YEAR'],age_bins,labels=age_slot)"
   ]
  },
  {
   "cell_type": "code",
   "execution_count": 41,
   "metadata": {},
   "outputs": [
    {
     "data": {
      "image/png": "[encoded data removed]",
      "text/plain": [
       "<Figure size 432x288 with 1 Axes>"
      ]
     },
     "metadata": {
      "needs_background": "light"
     },
     "output_type": "display_data"
    }
   ],
   "source": [
    "app_data.AMT_INCOME_BINS.value_counts().plot.bar()\n",
    "plt.title('Income of Loans applicants')\n",
    "plt.show()"
   ]
  },
  {
   "cell_type": "code",
   "execution_count": 42,
   "metadata": {},
   "outputs": [
    {
     "data": {
      "image/png": "[encoded data removed]",
      "text/plain": [
       "<Figure size 432x288 with 1 Axes>"
      ]
     },
     "metadata": {
      "needs_background": "light"
     },
     "output_type": "display_data"
    }
   ],
   "source": [
    "plt.hist(app_data['DAYS_BIRTH_YEAR'], bins = 4)\n",
    "plt.show()"
   ]
  },
  {
   "cell_type": "markdown",
   "metadata": {},
   "source": [
    "# Univariate analysis: "
   ]
  },
  {
   "cell_type": "code",
   "execution_count": 43,
   "metadata": {},
   "outputs": [
    {
     "data": {
      "text/plain": [
       "count    307511.000000\n",
       "mean      27108.487841\n",
       "std       14493.461065\n",
       "min        1615.500000\n",
       "25%       16524.000000\n",
       "50%       24903.000000\n",
       "75%       34596.000000\n",
       "max      258025.500000\n",
       "Name: AMT_ANNUITY, dtype: float64"
      ]
     },
     "execution_count": 43,
     "metadata": {},
     "output_type": "execute_result"
    }
   ],
   "source": [
    "#There is a huge difference between min and max value.Till 75% data seems to have an increment in constant propotions. \n",
    "#From 75 to max() again is a huge difference\n",
    "app_data.AMT_ANNUITY.describe()"
   ]
  },
  {
   "cell_type": "code",
   "execution_count": 44,
   "metadata": {},
   "outputs": [
    {
     "data": {
      "image/png": "[encoded data removed]",
      "text/plain": [
       "<Figure size 576x144 with 1 Axes>"
      ]
     },
     "metadata": {
      "needs_background": "light"
     },
     "output_type": "display_data"
    }
   ],
   "source": [
    "# Box plot to analyse the spread of data.\n",
    "plt.figure(figsize = [8,2])\n",
    "sns.boxplot(app_data['AMT_ANNUITY'])\n",
    "\n",
    "plt.show()"
   ]
  },
  {
   "cell_type": "code",
   "execution_count": 45,
   "metadata": {},
   "outputs": [
    {
     "data": {
      "text/plain": [
       "<matplotlib.axes._subplots.AxesSubplot at 0x1c78c7ca8e0>"
      ]
     },
     "execution_count": 45,
     "metadata": {},
     "output_type": "execute_result"
    },
    {
     "data": {
      "image/png": "[encoded data removed]",
      "text/plain": [
       "<Figure size 432x288 with 1 Axes>"
      ]
     },
     "metadata": {
      "needs_background": "light"
     },
     "output_type": "display_data"
    }
   ],
   "source": [
    "app_data['AMT_ANNUITY'].hist(bins=20)"
   ]
  },
  {
   "cell_type": "code",
   "execution_count": 46,
   "metadata": {},
   "outputs": [
    {
     "data": {
      "text/plain": [
       "<matplotlib.axes._subplots.AxesSubplot at 0x1c79cf1a400>"
      ]
     },
     "execution_count": 46,
     "metadata": {},
     "output_type": "execute_result"
    },
    {
     "data": {
      "image/png": "[encoded data removed]",
      "text/plain": [
       "<Figure size 432x288 with 1 Axes>"
      ]
     },
     "metadata": {
      "needs_background": "light"
     },
     "output_type": "display_data"
    }
   ],
   "source": [
    "app_data['AMT_ANNUITY_LOG'] = np.log(app_data['AMT_ANNUITY'])\n",
    "app_data['AMT_ANNUITY_LOG'].hist(bins=20)"
   ]
  },
  {
   "cell_type": "code",
   "execution_count": 47,
   "metadata": {},
   "outputs": [
    {
     "data": {
      "text/plain": [
       "0.50    24903.0\n",
       "0.70    32004.0\n",
       "0.90    45954.0\n",
       "0.95    53325.0\n",
       "0.99    70006.5\n",
       "Name: AMT_ANNUITY, dtype: float64"
      ]
     },
     "execution_count": 47,
     "metadata": {},
     "output_type": "execute_result"
    }
   ],
   "source": [
    "# As observed from the box plots there are outliers.Hence checking the percentile values.\n",
    "app_data.AMT_ANNUITY.quantile([0.5,0.7,0.9,0.95,0.99])"
   ]
  },
  {
   "cell_type": "code",
   "execution_count": 48,
   "metadata": {},
   "outputs": [
    {
     "data": {
      "text/html": [
       "<div>\n",
       "<style scoped>\n",
       "    .dataframe tbody tr th:only-of-type {\n",
       "        vertical-align: middle;\n",
       "    }\n",
       "\n",
       "    .dataframe tbody tr th {\n",
       "        vertical-align: top;\n",
       "    }\n",
       "\n",
       "    .dataframe thead th {\n",
       "        text-align: right;\n",
       "    }\n",
       "</style>\n",
       "<table border=\"1\" class=\"dataframe\">\n",
       "  <thead>\n",
       "    <tr style=\"text-align: right;\">\n",
       "      <th></th>\n",
       "      <th>SK_ID_CURR</th>\n",
       "      <th>TARGET</th>\n",
       "      <th>NAME_CONTRACT_TYPE</th>\n",
       "      <th>CODE_GENDER</th>\n",
       "      <th>FLAG_OWN_CAR</th>\n",
       "      <th>FLAG_OWN_REALTY</th>\n",
       "      <th>CNT_CHILDREN</th>\n",
       "      <th>AMT_INCOME_TOTAL</th>\n",
       "      <th>AMT_CREDIT</th>\n",
       "      <th>AMT_ANNUITY</th>\n",
       "      <th>...</th>\n",
       "      <th>AMT_REQ_CREDIT_BUREAU_HOUR</th>\n",
       "      <th>AMT_REQ_CREDIT_BUREAU_DAY</th>\n",
       "      <th>AMT_REQ_CREDIT_BUREAU_WEEK</th>\n",
       "      <th>AMT_REQ_CREDIT_BUREAU_MON</th>\n",
       "      <th>AMT_REQ_CREDIT_BUREAU_QRT</th>\n",
       "      <th>AMT_REQ_CREDIT_BUREAU_YEAR</th>\n",
       "      <th>DAYS_BIRTH_YEAR</th>\n",
       "      <th>DAYS_EMPLOYED_ANOM</th>\n",
       "      <th>AMT_INCOME_BINS</th>\n",
       "      <th>AMT_ANNUITY_LOG</th>\n",
       "    </tr>\n",
       "  </thead>\n",
       "  <tbody>\n",
       "    <tr>\n",
       "      <th>60</th>\n",
       "      <td>100071</td>\n",
       "      <td>0</td>\n",
       "      <td>Cash loans</td>\n",
       "      <td>F</td>\n",
       "      <td>N</td>\n",
       "      <td>Y</td>\n",
       "      <td>0</td>\n",
       "      <td>180000.0</td>\n",
       "      <td>1663987.5</td>\n",
       "      <td>86989.5</td>\n",
       "      <td>...</td>\n",
       "      <td>0.0</td>\n",
       "      <td>0.0</td>\n",
       "      <td>0.0</td>\n",
       "      <td>2.0</td>\n",
       "      <td>0.0</td>\n",
       "      <td>1.0</td>\n",
       "      <td>40-55</td>\n",
       "      <td>False</td>\n",
       "      <td>175000-200000</td>\n",
       "      <td>11.373543</td>\n",
       "    </tr>\n",
       "    <tr>\n",
       "      <th>112</th>\n",
       "      <td>100132</td>\n",
       "      <td>0</td>\n",
       "      <td>Cash loans</td>\n",
       "      <td>F</td>\n",
       "      <td>N</td>\n",
       "      <td>Y</td>\n",
       "      <td>0</td>\n",
       "      <td>202500.0</td>\n",
       "      <td>1136439.0</td>\n",
       "      <td>73611.0</td>\n",
       "      <td>...</td>\n",
       "      <td>0.0</td>\n",
       "      <td>0.0</td>\n",
       "      <td>0.0</td>\n",
       "      <td>0.0</td>\n",
       "      <td>0.0</td>\n",
       "      <td>1.0</td>\n",
       "      <td>&gt;50</td>\n",
       "      <td>False</td>\n",
       "      <td>200000-225000</td>\n",
       "      <td>11.206550</td>\n",
       "    </tr>\n",
       "    <tr>\n",
       "      <th>189</th>\n",
       "      <td>100219</td>\n",
       "      <td>0</td>\n",
       "      <td>Cash loans</td>\n",
       "      <td>M</td>\n",
       "      <td>N</td>\n",
       "      <td>Y</td>\n",
       "      <td>1</td>\n",
       "      <td>315000.0</td>\n",
       "      <td>2250000.0</td>\n",
       "      <td>83515.5</td>\n",
       "      <td>...</td>\n",
       "      <td>0.0</td>\n",
       "      <td>0.0</td>\n",
       "      <td>0.0</td>\n",
       "      <td>0.0</td>\n",
       "      <td>0.0</td>\n",
       "      <td>3.0</td>\n",
       "      <td>25-40</td>\n",
       "      <td>False</td>\n",
       "      <td>300000-325000</td>\n",
       "      <td>11.332788</td>\n",
       "    </tr>\n",
       "    <tr>\n",
       "      <th>191</th>\n",
       "      <td>100221</td>\n",
       "      <td>0</td>\n",
       "      <td>Cash loans</td>\n",
       "      <td>F</td>\n",
       "      <td>N</td>\n",
       "      <td>Y</td>\n",
       "      <td>0</td>\n",
       "      <td>225000.0</td>\n",
       "      <td>684054.0</td>\n",
       "      <td>77494.5</td>\n",
       "      <td>...</td>\n",
       "      <td>0.0</td>\n",
       "      <td>0.0</td>\n",
       "      <td>0.0</td>\n",
       "      <td>0.0</td>\n",
       "      <td>1.0</td>\n",
       "      <td>4.0</td>\n",
       "      <td>&gt;50</td>\n",
       "      <td>False</td>\n",
       "      <td>200000-225000</td>\n",
       "      <td>11.257962</td>\n",
       "    </tr>\n",
       "    <tr>\n",
       "      <th>485</th>\n",
       "      <td>100559</td>\n",
       "      <td>0</td>\n",
       "      <td>Cash loans</td>\n",
       "      <td>F</td>\n",
       "      <td>Y</td>\n",
       "      <td>Y</td>\n",
       "      <td>0</td>\n",
       "      <td>450000.0</td>\n",
       "      <td>2286211.5</td>\n",
       "      <td>116266.5</td>\n",
       "      <td>...</td>\n",
       "      <td>NaN</td>\n",
       "      <td>NaN</td>\n",
       "      <td>NaN</td>\n",
       "      <td>NaN</td>\n",
       "      <td>NaN</td>\n",
       "      <td>NaN</td>\n",
       "      <td>&gt;50</td>\n",
       "      <td>False</td>\n",
       "      <td>425000-450000</td>\n",
       "      <td>11.663640</td>\n",
       "    </tr>\n",
       "    <tr>\n",
       "      <th>...</th>\n",
       "      <td>...</td>\n",
       "      <td>...</td>\n",
       "      <td>...</td>\n",
       "      <td>...</td>\n",
       "      <td>...</td>\n",
       "      <td>...</td>\n",
       "      <td>...</td>\n",
       "      <td>...</td>\n",
       "      <td>...</td>\n",
       "      <td>...</td>\n",
       "      <td>...</td>\n",
       "      <td>...</td>\n",
       "      <td>...</td>\n",
       "      <td>...</td>\n",
       "      <td>...</td>\n",
       "      <td>...</td>\n",
       "      <td>...</td>\n",
       "      <td>...</td>\n",
       "      <td>...</td>\n",
       "      <td>...</td>\n",
       "      <td>...</td>\n",
       "    </tr>\n",
       "    <tr>\n",
       "      <th>307002</th>\n",
       "      <td>455682</td>\n",
       "      <td>0</td>\n",
       "      <td>Cash loans</td>\n",
       "      <td>M</td>\n",
       "      <td>Y</td>\n",
       "      <td>N</td>\n",
       "      <td>0</td>\n",
       "      <td>546250.5</td>\n",
       "      <td>1800000.0</td>\n",
       "      <td>166572.0</td>\n",
       "      <td>...</td>\n",
       "      <td>NaN</td>\n",
       "      <td>NaN</td>\n",
       "      <td>NaN</td>\n",
       "      <td>NaN</td>\n",
       "      <td>NaN</td>\n",
       "      <td>NaN</td>\n",
       "      <td>25-40</td>\n",
       "      <td>False</td>\n",
       "      <td>500000 and above</td>\n",
       "      <td>12.023183</td>\n",
       "    </tr>\n",
       "    <tr>\n",
       "      <th>307055</th>\n",
       "      <td>455739</td>\n",
       "      <td>0</td>\n",
       "      <td>Cash loans</td>\n",
       "      <td>F</td>\n",
       "      <td>N</td>\n",
       "      <td>Y</td>\n",
       "      <td>0</td>\n",
       "      <td>112500.0</td>\n",
       "      <td>2032992.0</td>\n",
       "      <td>70794.0</td>\n",
       "      <td>...</td>\n",
       "      <td>0.0</td>\n",
       "      <td>0.0</td>\n",
       "      <td>0.0</td>\n",
       "      <td>0.0</td>\n",
       "      <td>0.0</td>\n",
       "      <td>5.0</td>\n",
       "      <td>40-55</td>\n",
       "      <td>False</td>\n",
       "      <td>100000-125000</td>\n",
       "      <td>11.167530</td>\n",
       "    </tr>\n",
       "    <tr>\n",
       "      <th>307069</th>\n",
       "      <td>455759</td>\n",
       "      <td>0</td>\n",
       "      <td>Cash loans</td>\n",
       "      <td>F</td>\n",
       "      <td>N</td>\n",
       "      <td>Y</td>\n",
       "      <td>0</td>\n",
       "      <td>130500.0</td>\n",
       "      <td>1350000.0</td>\n",
       "      <td>70033.5</td>\n",
       "      <td>...</td>\n",
       "      <td>0.0</td>\n",
       "      <td>0.0</td>\n",
       "      <td>0.0</td>\n",
       "      <td>1.0</td>\n",
       "      <td>0.0</td>\n",
       "      <td>2.0</td>\n",
       "      <td>40-55</td>\n",
       "      <td>False</td>\n",
       "      <td>125000-150000</td>\n",
       "      <td>11.156729</td>\n",
       "    </tr>\n",
       "    <tr>\n",
       "      <th>307165</th>\n",
       "      <td>455868</td>\n",
       "      <td>0</td>\n",
       "      <td>Cash loans</td>\n",
       "      <td>F</td>\n",
       "      <td>Y</td>\n",
       "      <td>Y</td>\n",
       "      <td>0</td>\n",
       "      <td>337500.0</td>\n",
       "      <td>1890000.0</td>\n",
       "      <td>71986.5</td>\n",
       "      <td>...</td>\n",
       "      <td>0.0</td>\n",
       "      <td>0.0</td>\n",
       "      <td>0.0</td>\n",
       "      <td>0.0</td>\n",
       "      <td>1.0</td>\n",
       "      <td>4.0</td>\n",
       "      <td>25-40</td>\n",
       "      <td>False</td>\n",
       "      <td>325000-350000</td>\n",
       "      <td>11.184234</td>\n",
       "    </tr>\n",
       "    <tr>\n",
       "      <th>307392</th>\n",
       "      <td>456125</td>\n",
       "      <td>0</td>\n",
       "      <td>Cash loans</td>\n",
       "      <td>F</td>\n",
       "      <td>N</td>\n",
       "      <td>Y</td>\n",
       "      <td>0</td>\n",
       "      <td>315000.0</td>\n",
       "      <td>1391130.0</td>\n",
       "      <td>77809.5</td>\n",
       "      <td>...</td>\n",
       "      <td>0.0</td>\n",
       "      <td>0.0</td>\n",
       "      <td>0.0</td>\n",
       "      <td>0.0</td>\n",
       "      <td>0.0</td>\n",
       "      <td>0.0</td>\n",
       "      <td>&gt;50</td>\n",
       "      <td>True</td>\n",
       "      <td>300000-325000</td>\n",
       "      <td>11.262019</td>\n",
       "    </tr>\n",
       "  </tbody>\n",
       "</table>\n",
       "<p>3081 rows × 76 columns</p>\n",
       "</div>"
      ],
      "text/plain": [
       "        SK_ID_CURR  TARGET NAME_CONTRACT_TYPE CODE_GENDER FLAG_OWN_CAR  \\\n",
       "60          100071       0         Cash loans           F            N   \n",
       "112         100132       0         Cash loans           F            N   \n",
       "189         100219       0         Cash loans           M            N   \n",
       "191         100221       0         Cash loans           F            N   \n",
       "485         100559       0         Cash loans           F            Y   \n",
       "...            ...     ...                ...         ...          ...   \n",
       "307002      455682       0         Cash loans           M            Y   \n",
       "307055      455739       0         Cash loans           F            N   \n",
       "307069      455759       0         Cash loans           F            N   \n",
       "307165      455868       0         Cash loans           F            Y   \n",
       "307392      456125       0         Cash loans           F            N   \n",
       "\n",
       "       FLAG_OWN_REALTY  CNT_CHILDREN  AMT_INCOME_TOTAL  AMT_CREDIT  \\\n",
       "60                   Y             0          180000.0   1663987.5   \n",
       "112                  Y             0          202500.0   1136439.0   \n",
       "189                  Y             1          315000.0   2250000.0   \n",
       "191                  Y             0          225000.0    684054.0   \n",
       "485                  Y             0          450000.0   2286211.5   \n",
       "...                ...           ...               ...         ...   \n",
       "307002               N             0          546250.5   1800000.0   \n",
       "307055               Y             0          112500.0   2032992.0   \n",
       "307069               Y             0          130500.0   1350000.0   \n",
       "307165               Y             0          337500.0   1890000.0   \n",
       "307392               Y             0          315000.0   1391130.0   \n",
       "\n",
       "        AMT_ANNUITY  ...  AMT_REQ_CREDIT_BUREAU_HOUR  \\\n",
       "60          86989.5  ...                         0.0   \n",
       "112         73611.0  ...                         0.0   \n",
       "189         83515.5  ...                         0.0   \n",
       "191         77494.5  ...                         0.0   \n",
       "485        116266.5  ...                         NaN   \n",
       "...             ...  ...                         ...   \n",
       "307002     166572.0  ...                         NaN   \n",
       "307055      70794.0  ...                         0.0   \n",
       "307069      70033.5  ...                         0.0   \n",
       "307165      71986.5  ...                         0.0   \n",
       "307392      77809.5  ...                         0.0   \n",
       "\n",
       "       AMT_REQ_CREDIT_BUREAU_DAY AMT_REQ_CREDIT_BUREAU_WEEK  \\\n",
       "60                           0.0                        0.0   \n",
       "112                          0.0                        0.0   \n",
       "189                          0.0                        0.0   \n",
       "191                          0.0                        0.0   \n",
       "485                          NaN                        NaN   \n",
       "...                          ...                        ...   \n",
       "307002                       NaN                        NaN   \n",
       "307055                       0.0                        0.0   \n",
       "307069                       0.0                        0.0   \n",
       "307165                       0.0                        0.0   \n",
       "307392                       0.0                        0.0   \n",
       "\n",
       "       AMT_REQ_CREDIT_BUREAU_MON AMT_REQ_CREDIT_BUREAU_QRT  \\\n",
       "60                           2.0                       0.0   \n",
       "112                          0.0                       0.0   \n",
       "189                          0.0                       0.0   \n",
       "191                          0.0                       1.0   \n",
       "485                          NaN                       NaN   \n",
       "...                          ...                       ...   \n",
       "307002                       NaN                       NaN   \n",
       "307055                       0.0                       0.0   \n",
       "307069                       1.0                       0.0   \n",
       "307165                       0.0                       1.0   \n",
       "307392                       0.0                       0.0   \n",
       "\n",
       "       AMT_REQ_CREDIT_BUREAU_YEAR  DAYS_BIRTH_YEAR  DAYS_EMPLOYED_ANOM  \\\n",
       "60                            1.0            40-55               False   \n",
       "112                           1.0              >50               False   \n",
       "189                           3.0            25-40               False   \n",
       "191                           4.0              >50               False   \n",
       "485                           NaN              >50               False   \n",
       "...                           ...              ...                 ...   \n",
       "307002                        NaN            25-40               False   \n",
       "307055                        5.0            40-55               False   \n",
       "307069                        2.0            40-55               False   \n",
       "307165                        4.0            25-40               False   \n",
       "307392                        0.0              >50                True   \n",
       "\n",
       "         AMT_INCOME_BINS  AMT_ANNUITY_LOG  \n",
       "60         175000-200000        11.373543  \n",
       "112        200000-225000        11.206550  \n",
       "189        300000-325000        11.332788  \n",
       "191        200000-225000        11.257962  \n",
       "485        425000-450000        11.663640  \n",
       "...                  ...              ...  \n",
       "307002  500000 and above        12.023183  \n",
       "307055     100000-125000        11.167530  \n",
       "307069     125000-150000        11.156729  \n",
       "307165     325000-350000        11.184234  \n",
       "307392     300000-325000        11.262019  \n",
       "\n",
       "[3081 rows x 76 columns]"
      ]
     },
     "execution_count": 48,
     "metadata": {},
     "output_type": "execute_result"
    }
   ],
   "source": [
    "app_data[app_data['AMT_ANNUITY'] >= 70006.5]"
   ]
  },
  {
   "cell_type": "code",
   "execution_count": 49,
   "metadata": {},
   "outputs": [
    {
     "data": {
      "image/png": "[encoded data removed]",
      "text/plain": [
       "<Figure size 576x144 with 1 Axes>"
      ]
     },
     "metadata": {
      "needs_background": "light"
     },
     "output_type": "display_data"
    }
   ],
   "source": [
    "#Income variable has to be analysed as this may influence defaulter.\n",
    "plt.figure(figsize = [8,2])\n",
    "sns.boxplot(app_data['AMT_INCOME_TOTAL'])\n",
    "\n",
    "plt.show()"
   ]
  },
  {
   "cell_type": "code",
   "execution_count": 50,
   "metadata": {},
   "outputs": [
    {
     "data": {
      "text/plain": [
       "<matplotlib.axes._subplots.AxesSubplot at 0x1c79d1f5580>"
      ]
     },
     "execution_count": 50,
     "metadata": {},
     "output_type": "execute_result"
    },
    {
     "data": {
      "image/png": "[encoded data removed]",
      "text/plain": [
       "<Figure size 432x288 with 1 Axes>"
      ]
     },
     "metadata": {
      "needs_background": "light"
     },
     "output_type": "display_data"
    }
   ],
   "source": [
    "app_data['AMT_INCOME_TOTAL'].hist(bins=20)"
   ]
  },
  {
   "cell_type": "code",
   "execution_count": 51,
   "metadata": {},
   "outputs": [
    {
     "data": {
      "text/plain": [
       "<matplotlib.axes._subplots.AxesSubplot at 0x1c78c76c580>"
      ]
     },
     "execution_count": 51,
     "metadata": {},
     "output_type": "execute_result"
    },
    {
     "data": {
      "image/png": "[encoded data removed]",
      "text/plain": [
       "<Figure size 432x288 with 1 Axes>"
      ]
     },
     "metadata": {
      "needs_background": "light"
     },
     "output_type": "display_data"
    }
   ],
   "source": [
    "app_data['AMT_INCOME_TOTAL_LOG'] = np.log(app_data['AMT_INCOME_TOTAL'])\n",
    "app_data['AMT_INCOME_TOTAL_LOG'].hist(bins=20)"
   ]
  },
  {
   "cell_type": "code",
   "execution_count": 52,
   "metadata": {},
   "outputs": [
    {
     "data": {
      "text/plain": [
       "count    3.075110e+05\n",
       "mean     1.687979e+05\n",
       "std      2.371231e+05\n",
       "min      2.565000e+04\n",
       "25%      1.125000e+05\n",
       "50%      1.471500e+05\n",
       "75%      2.025000e+05\n",
       "max      1.170000e+08\n",
       "Name: AMT_INCOME_TOTAL, dtype: float64"
      ]
     },
     "execution_count": 52,
     "metadata": {},
     "output_type": "execute_result"
    }
   ],
   "source": [
    "app_data.AMT_INCOME_TOTAL.describe()"
   ]
  },
  {
   "cell_type": "code",
   "execution_count": 53,
   "metadata": {},
   "outputs": [
    {
     "data": {
      "text/plain": [
       "count       307511.0\n",
       "mean        168797.9\n",
       "std         237123.1\n",
       "min          25650.0\n",
       "25%         112500.0\n",
       "50%         147150.0\n",
       "75%         202500.0\n",
       "max      117000000.0\n",
       "Name: AMT_INCOME_TOTAL, dtype: object"
      ]
     },
     "execution_count": 53,
     "metadata": {},
     "output_type": "execute_result"
    }
   ],
   "source": [
    "#correcting the display of describe function\n",
    "app_data['AMT_INCOME_TOTAL'].describe().apply(\"{0:.1f}\".format)"
   ]
  },
  {
   "cell_type": "code",
   "execution_count": 54,
   "metadata": {},
   "outputs": [
    {
     "data": {
      "text/plain": [
       "0.50    147150.0\n",
       "0.70    180000.0\n",
       "0.90    270000.0\n",
       "0.95    337500.0\n",
       "0.99    472500.0\n",
       "Name: AMT_INCOME_TOTAL, dtype: float64"
      ]
     },
     "execution_count": 54,
     "metadata": {},
     "output_type": "execute_result"
    }
   ],
   "source": [
    "# To get a better understanding using quantile function.\n",
    "app_data.AMT_INCOME_TOTAL.quantile([0.5,0.7,0.9,0.95,0.99])"
   ]
  },
  {
   "cell_type": "markdown",
   "metadata": {},
   "source": [
    "Observation : Income is on higher side for 1 percentage. "
   ]
  },
  {
   "cell_type": "code",
   "execution_count": 55,
   "metadata": {},
   "outputs": [],
   "source": [
    "# Since there is a wide spread for income amount, binning the values so as to get a better insight\n",
    "# Treating numeric variables as categories.\n",
    "income_bins = [0,25000,50000,75000,100000,125000,150000,175000,200000,225000,250000,275000,300000,325000,350000,375000,400000,425000,450000,475000,500000,10000000000]\n",
    "income_slot = ['0-25000', '25000-50000','50000-75000','75000,100000','100000-125000', '125000-150000', '150000-175000','175000-200000',\n",
    "               '200000-225000','225000-250000','250000-275000','275000-300000','300000-325000','325000-350000','350000-375000',\n",
    "               '375000-400000','400000-425000','425000-450000','450000-475000','475000-500000','500000 and above']\n",
    "\n",
    "app_data['AMT_INCOME_BINS'] = pd.cut(app_data['AMT_INCOME_TOTAL'],income_bins,labels=income_slot)"
   ]
  },
  {
   "cell_type": "code",
   "execution_count": 56,
   "metadata": {},
   "outputs": [
    {
     "data": {
      "image/png": "[encoded data removed]",
      "text/plain": [
       "<Figure size 432x288 with 1 Axes>"
      ]
     },
     "metadata": {
      "needs_background": "light"
     },
     "output_type": "display_data"
    }
   ],
   "source": [
    "app_data.AMT_INCOME_BINS.value_counts().plot.bar()\n",
    "plt.title('Income of Loans applicants')\n",
    "plt.show()"
   ]
  },
  {
   "cell_type": "code",
   "execution_count": 57,
   "metadata": {},
   "outputs": [
    {
     "data": {
      "text/plain": [
       "Cash loans         278232\n",
       "Revolving loans     29279\n",
       "Name: NAME_CONTRACT_TYPE, dtype: int64"
      ]
     },
     "execution_count": 57,
     "metadata": {},
     "output_type": "execute_result"
    }
   ],
   "source": [
    "# NAME_CONTRACT_TYPE\n",
    "app_data['NAME_CONTRACT_TYPE'].value_counts()"
   ]
  },
  {
   "cell_type": "code",
   "execution_count": 58,
   "metadata": {},
   "outputs": [
    {
     "data": {
      "image/png": "[encoded data removed]",
      "text/plain": [
       "<Figure size 432x288 with 1 Axes>"
      ]
     },
     "metadata": {},
     "output_type": "display_data"
    }
   ],
   "source": [
    "app_data.NAME_CONTRACT_TYPE.value_counts(normalize= True).plot.pie(label = '')\n",
    "plt.title('Different Type of loans applied')\n",
    "plt.show()"
   ]
  },
  {
   "cell_type": "code",
   "execution_count": 59,
   "metadata": {},
   "outputs": [
    {
     "data": {
      "text/plain": [
       "F    202452\n",
       "M    105059\n",
       "Name: CODE_GENDER, dtype: int64"
      ]
     },
     "execution_count": 59,
     "metadata": {},
     "output_type": "execute_result"
    }
   ],
   "source": [
    "# Gender.\n",
    "app_data['CODE_GENDER'].value_counts()"
   ]
  },
  {
   "cell_type": "code",
   "execution_count": 60,
   "metadata": {},
   "outputs": [
    {
     "data": {
      "image/png": "[encoded data removed]",
      "text/plain": [
       "<Figure size 432x288 with 1 Axes>"
      ]
     },
     "metadata": {},
     "output_type": "display_data"
    }
   ],
   "source": [
    "app_data.CODE_GENDER.value_counts(normalize= True).plot.pie(label = '')\n",
    "plt.title('Gender')\n",
    "plt.show()"
   ]
  },
  {
   "cell_type": "code",
   "execution_count": 61,
   "metadata": {},
   "outputs": [
    {
     "data": {
      "text/plain": [
       "Secondary / secondary special    218391\n",
       "Higher education                  74863\n",
       "Incomplete higher                 10277\n",
       "Lower secondary                    3816\n",
       "Academic degree                     164\n",
       "Name: NAME_EDUCATION_TYPE, dtype: int64"
      ]
     },
     "execution_count": 61,
     "metadata": {},
     "output_type": "execute_result"
    }
   ],
   "source": [
    "# Education type.\n",
    "app_data['NAME_EDUCATION_TYPE'].value_counts()"
   ]
  },
  {
   "cell_type": "code",
   "execution_count": 62,
   "metadata": {},
   "outputs": [
    {
     "data": {
      "image/png": "[encoded data removed]",
      "text/plain": [
       "<Figure size 432x288 with 1 Axes>"
      ]
     },
     "metadata": {
      "needs_background": "light"
     },
     "output_type": "display_data"
    }
   ],
   "source": [
    "app_data.NAME_EDUCATION_TYPE.value_counts(normalize=True).plot.bar()\n",
    "plt.title('Education level of loan applicants')\n",
    "plt.show()"
   ]
  },
  {
   "cell_type": "code",
   "execution_count": 63,
   "metadata": {},
   "outputs": [
    {
     "data": {
      "image/png": "[encoded data removed]",
      "text/plain": [
       "<Figure size 432x288 with 1 Axes>"
      ]
     },
     "metadata": {
      "needs_background": "light"
     },
     "output_type": "display_data"
    }
   ],
   "source": [
    " # Family Members\n",
    "app_data.CNT_FAM_MEMBERS.value_counts().plot.bar()\n",
    "plt.title('Number of family members of Loans applicants')\n",
    "plt.show()"
   ]
  },
  {
   "cell_type": "code",
   "execution_count": 64,
   "metadata": {},
   "outputs": [
    {
     "data": {
      "text/plain": [
       "Married                 196432\n",
       "Single / not married     45444\n",
       "Civil marriage           29775\n",
       "Separated                19770\n",
       "Widow                    16088\n",
       "Unknown                      2\n",
       "Name: NAME_FAMILY_STATUS, dtype: int64"
      ]
     },
     "execution_count": 64,
     "metadata": {},
     "output_type": "execute_result"
    }
   ],
   "source": [
    "#family_status/marital_status.\n",
    "app_data['NAME_FAMILY_STATUS'].value_counts()"
   ]
  },
  {
   "cell_type": "code",
   "execution_count": 65,
   "metadata": {},
   "outputs": [
    {
     "data": {
      "image/png": "[encoded data removed]",
      "text/plain": [
       "<Figure size 432x288 with 1 Axes>"
      ]
     },
     "metadata": {
      "needs_background": "light"
     },
     "output_type": "display_data"
    }
   ],
   "source": [
    "app_data['NAME_FAMILY_STATUS'].value_counts().plot.bar()\n",
    "plt.title('Marital status of Loans applicants')\n",
    "plt.show()"
   ]
  },
  {
   "cell_type": "code",
   "execution_count": 66,
   "metadata": {},
   "outputs": [
    {
     "data": {
      "text/plain": [
       "Working                 158774\n",
       "Commercial associate     71617\n",
       "Pensioner                55362\n",
       "State servant            21703\n",
       "Unemployed                  22\n",
       "Student                     18\n",
       "Businessman                 10\n",
       "Maternity leave              5\n",
       "Name: NAME_INCOME_TYPE, dtype: int64"
      ]
     },
     "execution_count": 66,
     "metadata": {},
     "output_type": "execute_result"
    }
   ],
   "source": [
    "#NAME_INCOME_TYPE.\n",
    "app_data['NAME_INCOME_TYPE'].value_counts()"
   ]
  },
  {
   "cell_type": "code",
   "execution_count": 67,
   "metadata": {},
   "outputs": [
    {
     "data": {
      "image/png": "[encoded data removed]",
      "text/plain": [
       "<Figure size 432x288 with 1 Axes>"
      ]
     },
     "metadata": {
      "needs_background": "light"
     },
     "output_type": "display_data"
    }
   ],
   "source": [
    "app_data['NAME_INCOME_TYPE'].value_counts().plot.bar()\n",
    "plt.title('Income type of Loans applicants')\n",
    "plt.show()"
   ]
  },
  {
   "cell_type": "code",
   "execution_count": 68,
   "metadata": {},
   "outputs": [
    {
     "data": {
      "image/png": "[encoded data removed]",
      "text/plain": [
       "<Figure size 432x288 with 1 Axes>"
      ]
     },
     "metadata": {
      "needs_background": "light"
     },
     "output_type": "display_data"
    }
   ],
   "source": [
    "plt.hist(app_data['DAYS_BIRTH_YEAR'], bins = 4)\n",
    "plt.show()"
   ]
  },
  {
   "cell_type": "markdown",
   "metadata": {},
   "source": [
    "# Bivariate Analysis: "
   ]
  },
  {
   "cell_type": "code",
   "execution_count": 69,
   "metadata": {},
   "outputs": [
    {
     "data": {
      "text/html": [
       "<div>\n",
       "<style scoped>\n",
       "    .dataframe tbody tr th:only-of-type {\n",
       "        vertical-align: middle;\n",
       "    }\n",
       "\n",
       "    .dataframe tbody tr th {\n",
       "        vertical-align: top;\n",
       "    }\n",
       "\n",
       "    .dataframe thead th {\n",
       "        text-align: right;\n",
       "    }\n",
       "</style>\n",
       "<table border=\"1\" class=\"dataframe\">\n",
       "  <thead>\n",
       "    <tr style=\"text-align: right;\">\n",
       "      <th></th>\n",
       "      <th>index</th>\n",
       "      <th>SK_ID_CURR</th>\n",
       "      <th>TARGET</th>\n",
       "      <th>NAME_CONTRACT_TYPE</th>\n",
       "      <th>CODE_GENDER</th>\n",
       "      <th>FLAG_OWN_CAR</th>\n",
       "      <th>FLAG_OWN_REALTY</th>\n",
       "      <th>CNT_CHILDREN</th>\n",
       "      <th>AMT_INCOME_TOTAL</th>\n",
       "      <th>AMT_CREDIT</th>\n",
       "      <th>...</th>\n",
       "      <th>AMT_REQ_CREDIT_BUREAU_DAY</th>\n",
       "      <th>AMT_REQ_CREDIT_BUREAU_WEEK</th>\n",
       "      <th>AMT_REQ_CREDIT_BUREAU_MON</th>\n",
       "      <th>AMT_REQ_CREDIT_BUREAU_QRT</th>\n",
       "      <th>AMT_REQ_CREDIT_BUREAU_YEAR</th>\n",
       "      <th>DAYS_BIRTH_YEAR</th>\n",
       "      <th>DAYS_EMPLOYED_ANOM</th>\n",
       "      <th>AMT_INCOME_BINS</th>\n",
       "      <th>AMT_ANNUITY_LOG</th>\n",
       "      <th>AMT_INCOME_TOTAL_LOG</th>\n",
       "    </tr>\n",
       "  </thead>\n",
       "  <tbody>\n",
       "    <tr>\n",
       "      <th>0</th>\n",
       "      <td>1</td>\n",
       "      <td>100003</td>\n",
       "      <td>0</td>\n",
       "      <td>Cash loans</td>\n",
       "      <td>F</td>\n",
       "      <td>N</td>\n",
       "      <td>N</td>\n",
       "      <td>0</td>\n",
       "      <td>270000.0</td>\n",
       "      <td>1293502.5</td>\n",
       "      <td>...</td>\n",
       "      <td>0.0</td>\n",
       "      <td>0.0</td>\n",
       "      <td>0.0</td>\n",
       "      <td>0.0</td>\n",
       "      <td>0.0</td>\n",
       "      <td>40-55</td>\n",
       "      <td>False</td>\n",
       "      <td>250000-275000</td>\n",
       "      <td>10.482864</td>\n",
       "      <td>12.506177</td>\n",
       "    </tr>\n",
       "    <tr>\n",
       "      <th>1</th>\n",
       "      <td>2</td>\n",
       "      <td>100004</td>\n",
       "      <td>0</td>\n",
       "      <td>Revolving loans</td>\n",
       "      <td>M</td>\n",
       "      <td>Y</td>\n",
       "      <td>Y</td>\n",
       "      <td>0</td>\n",
       "      <td>67500.0</td>\n",
       "      <td>135000.0</td>\n",
       "      <td>...</td>\n",
       "      <td>0.0</td>\n",
       "      <td>0.0</td>\n",
       "      <td>0.0</td>\n",
       "      <td>0.0</td>\n",
       "      <td>0.0</td>\n",
       "      <td>40-55</td>\n",
       "      <td>False</td>\n",
       "      <td>50000-75000</td>\n",
       "      <td>8.817298</td>\n",
       "      <td>11.119883</td>\n",
       "    </tr>\n",
       "    <tr>\n",
       "      <th>2</th>\n",
       "      <td>3</td>\n",
       "      <td>100006</td>\n",
       "      <td>0</td>\n",
       "      <td>Cash loans</td>\n",
       "      <td>F</td>\n",
       "      <td>N</td>\n",
       "      <td>Y</td>\n",
       "      <td>0</td>\n",
       "      <td>135000.0</td>\n",
       "      <td>312682.5</td>\n",
       "      <td>...</td>\n",
       "      <td>NaN</td>\n",
       "      <td>NaN</td>\n",
       "      <td>NaN</td>\n",
       "      <td>NaN</td>\n",
       "      <td>NaN</td>\n",
       "      <td>40-55</td>\n",
       "      <td>False</td>\n",
       "      <td>125000-150000</td>\n",
       "      <td>10.298448</td>\n",
       "      <td>11.813030</td>\n",
       "    </tr>\n",
       "    <tr>\n",
       "      <th>3</th>\n",
       "      <td>4</td>\n",
       "      <td>100007</td>\n",
       "      <td>0</td>\n",
       "      <td>Cash loans</td>\n",
       "      <td>M</td>\n",
       "      <td>N</td>\n",
       "      <td>Y</td>\n",
       "      <td>0</td>\n",
       "      <td>121500.0</td>\n",
       "      <td>513000.0</td>\n",
       "      <td>...</td>\n",
       "      <td>0.0</td>\n",
       "      <td>0.0</td>\n",
       "      <td>0.0</td>\n",
       "      <td>0.0</td>\n",
       "      <td>0.0</td>\n",
       "      <td>40-55</td>\n",
       "      <td>False</td>\n",
       "      <td>100000-125000</td>\n",
       "      <td>9.992665</td>\n",
       "      <td>11.707670</td>\n",
       "    </tr>\n",
       "    <tr>\n",
       "      <th>4</th>\n",
       "      <td>5</td>\n",
       "      <td>100008</td>\n",
       "      <td>0</td>\n",
       "      <td>Cash loans</td>\n",
       "      <td>M</td>\n",
       "      <td>N</td>\n",
       "      <td>Y</td>\n",
       "      <td>0</td>\n",
       "      <td>99000.0</td>\n",
       "      <td>490495.5</td>\n",
       "      <td>...</td>\n",
       "      <td>0.0</td>\n",
       "      <td>0.0</td>\n",
       "      <td>0.0</td>\n",
       "      <td>1.0</td>\n",
       "      <td>1.0</td>\n",
       "      <td>40-55</td>\n",
       "      <td>False</td>\n",
       "      <td>75000,100000</td>\n",
       "      <td>10.222577</td>\n",
       "      <td>11.502875</td>\n",
       "    </tr>\n",
       "    <tr>\n",
       "      <th>...</th>\n",
       "      <td>...</td>\n",
       "      <td>...</td>\n",
       "      <td>...</td>\n",
       "      <td>...</td>\n",
       "      <td>...</td>\n",
       "      <td>...</td>\n",
       "      <td>...</td>\n",
       "      <td>...</td>\n",
       "      <td>...</td>\n",
       "      <td>...</td>\n",
       "      <td>...</td>\n",
       "      <td>...</td>\n",
       "      <td>...</td>\n",
       "      <td>...</td>\n",
       "      <td>...</td>\n",
       "      <td>...</td>\n",
       "      <td>...</td>\n",
       "      <td>...</td>\n",
       "      <td>...</td>\n",
       "      <td>...</td>\n",
       "      <td>...</td>\n",
       "    </tr>\n",
       "    <tr>\n",
       "      <th>282681</th>\n",
       "      <td>307505</td>\n",
       "      <td>456249</td>\n",
       "      <td>0</td>\n",
       "      <td>Cash loans</td>\n",
       "      <td>F</td>\n",
       "      <td>N</td>\n",
       "      <td>Y</td>\n",
       "      <td>0</td>\n",
       "      <td>112500.0</td>\n",
       "      <td>225000.0</td>\n",
       "      <td>...</td>\n",
       "      <td>0.0</td>\n",
       "      <td>0.0</td>\n",
       "      <td>2.0</td>\n",
       "      <td>0.0</td>\n",
       "      <td>0.0</td>\n",
       "      <td>&gt;50</td>\n",
       "      <td>True</td>\n",
       "      <td>100000-125000</td>\n",
       "      <td>10.001068</td>\n",
       "      <td>11.630709</td>\n",
       "    </tr>\n",
       "    <tr>\n",
       "      <th>282682</th>\n",
       "      <td>307506</td>\n",
       "      <td>456251</td>\n",
       "      <td>0</td>\n",
       "      <td>Cash loans</td>\n",
       "      <td>M</td>\n",
       "      <td>N</td>\n",
       "      <td>N</td>\n",
       "      <td>0</td>\n",
       "      <td>157500.0</td>\n",
       "      <td>254700.0</td>\n",
       "      <td>...</td>\n",
       "      <td>NaN</td>\n",
       "      <td>NaN</td>\n",
       "      <td>NaN</td>\n",
       "      <td>NaN</td>\n",
       "      <td>NaN</td>\n",
       "      <td>&lt;25</td>\n",
       "      <td>False</td>\n",
       "      <td>150000-175000</td>\n",
       "      <td>10.224048</td>\n",
       "      <td>11.967181</td>\n",
       "    </tr>\n",
       "    <tr>\n",
       "      <th>282683</th>\n",
       "      <td>307507</td>\n",
       "      <td>456252</td>\n",
       "      <td>0</td>\n",
       "      <td>Cash loans</td>\n",
       "      <td>F</td>\n",
       "      <td>N</td>\n",
       "      <td>Y</td>\n",
       "      <td>0</td>\n",
       "      <td>72000.0</td>\n",
       "      <td>269550.0</td>\n",
       "      <td>...</td>\n",
       "      <td>NaN</td>\n",
       "      <td>NaN</td>\n",
       "      <td>NaN</td>\n",
       "      <td>NaN</td>\n",
       "      <td>NaN</td>\n",
       "      <td>&gt;50</td>\n",
       "      <td>True</td>\n",
       "      <td>50000-75000</td>\n",
       "      <td>9.392787</td>\n",
       "      <td>11.184421</td>\n",
       "    </tr>\n",
       "    <tr>\n",
       "      <th>282684</th>\n",
       "      <td>307508</td>\n",
       "      <td>456253</td>\n",
       "      <td>0</td>\n",
       "      <td>Cash loans</td>\n",
       "      <td>F</td>\n",
       "      <td>N</td>\n",
       "      <td>Y</td>\n",
       "      <td>0</td>\n",
       "      <td>153000.0</td>\n",
       "      <td>677664.0</td>\n",
       "      <td>...</td>\n",
       "      <td>0.0</td>\n",
       "      <td>0.0</td>\n",
       "      <td>1.0</td>\n",
       "      <td>0.0</td>\n",
       "      <td>1.0</td>\n",
       "      <td>40-55</td>\n",
       "      <td>False</td>\n",
       "      <td>150000-175000</td>\n",
       "      <td>10.308252</td>\n",
       "      <td>11.938193</td>\n",
       "    </tr>\n",
       "    <tr>\n",
       "      <th>282685</th>\n",
       "      <td>307510</td>\n",
       "      <td>456255</td>\n",
       "      <td>0</td>\n",
       "      <td>Cash loans</td>\n",
       "      <td>F</td>\n",
       "      <td>N</td>\n",
       "      <td>N</td>\n",
       "      <td>0</td>\n",
       "      <td>157500.0</td>\n",
       "      <td>675000.0</td>\n",
       "      <td>...</td>\n",
       "      <td>0.0</td>\n",
       "      <td>0.0</td>\n",
       "      <td>2.0</td>\n",
       "      <td>0.0</td>\n",
       "      <td>1.0</td>\n",
       "      <td>40-55</td>\n",
       "      <td>False</td>\n",
       "      <td>150000-175000</td>\n",
       "      <td>10.801971</td>\n",
       "      <td>11.967181</td>\n",
       "    </tr>\n",
       "  </tbody>\n",
       "</table>\n",
       "<p>282686 rows × 78 columns</p>\n",
       "</div>"
      ],
      "text/plain": [
       "         index  SK_ID_CURR  TARGET NAME_CONTRACT_TYPE CODE_GENDER  \\\n",
       "0            1      100003       0         Cash loans           F   \n",
       "1            2      100004       0    Revolving loans           M   \n",
       "2            3      100006       0         Cash loans           F   \n",
       "3            4      100007       0         Cash loans           M   \n",
       "4            5      100008       0         Cash loans           M   \n",
       "...        ...         ...     ...                ...         ...   \n",
       "282681  307505      456249       0         Cash loans           F   \n",
       "282682  307506      456251       0         Cash loans           M   \n",
       "282683  307507      456252       0         Cash loans           F   \n",
       "282684  307508      456253       0         Cash loans           F   \n",
       "282685  307510      456255       0         Cash loans           F   \n",
       "\n",
       "       FLAG_OWN_CAR FLAG_OWN_REALTY  CNT_CHILDREN  AMT_INCOME_TOTAL  \\\n",
       "0                 N               N             0          270000.0   \n",
       "1                 Y               Y             0           67500.0   \n",
       "2                 N               Y             0          135000.0   \n",
       "3                 N               Y             0          121500.0   \n",
       "4                 N               Y             0           99000.0   \n",
       "...             ...             ...           ...               ...   \n",
       "282681            N               Y             0          112500.0   \n",
       "282682            N               N             0          157500.0   \n",
       "282683            N               Y             0           72000.0   \n",
       "282684            N               Y             0          153000.0   \n",
       "282685            N               N             0          157500.0   \n",
       "\n",
       "        AMT_CREDIT  ...  AMT_REQ_CREDIT_BUREAU_DAY  \\\n",
       "0        1293502.5  ...                        0.0   \n",
       "1         135000.0  ...                        0.0   \n",
       "2         312682.5  ...                        NaN   \n",
       "3         513000.0  ...                        0.0   \n",
       "4         490495.5  ...                        0.0   \n",
       "...            ...  ...                        ...   \n",
       "282681    225000.0  ...                        0.0   \n",
       "282682    254700.0  ...                        NaN   \n",
       "282683    269550.0  ...                        NaN   \n",
       "282684    677664.0  ...                        0.0   \n",
       "282685    675000.0  ...                        0.0   \n",
       "\n",
       "        AMT_REQ_CREDIT_BUREAU_WEEK AMT_REQ_CREDIT_BUREAU_MON  \\\n",
       "0                              0.0                       0.0   \n",
       "1                              0.0                       0.0   \n",
       "2                              NaN                       NaN   \n",
       "3                              0.0                       0.0   \n",
       "4                              0.0                       0.0   \n",
       "...                            ...                       ...   \n",
       "282681                         0.0                       2.0   \n",
       "282682                         NaN                       NaN   \n",
       "282683                         NaN                       NaN   \n",
       "282684                         0.0                       1.0   \n",
       "282685                         0.0                       2.0   \n",
       "\n",
       "       AMT_REQ_CREDIT_BUREAU_QRT AMT_REQ_CREDIT_BUREAU_YEAR DAYS_BIRTH_YEAR  \\\n",
       "0                            0.0                        0.0           40-55   \n",
       "1                            0.0                        0.0           40-55   \n",
       "2                            NaN                        NaN           40-55   \n",
       "3                            0.0                        0.0           40-55   \n",
       "4                            1.0                        1.0           40-55   \n",
       "...                          ...                        ...             ...   \n",
       "282681                       0.0                        0.0             >50   \n",
       "282682                       NaN                        NaN             <25   \n",
       "282683                       NaN                        NaN             >50   \n",
       "282684                       0.0                        1.0           40-55   \n",
       "282685                       0.0                        1.0           40-55   \n",
       "\n",
       "       DAYS_EMPLOYED_ANOM  AMT_INCOME_BINS  AMT_ANNUITY_LOG  \\\n",
       "0                   False    250000-275000        10.482864   \n",
       "1                   False      50000-75000         8.817298   \n",
       "2                   False    125000-150000        10.298448   \n",
       "3                   False    100000-125000         9.992665   \n",
       "4                   False     75000,100000        10.222577   \n",
       "...                   ...              ...              ...   \n",
       "282681               True    100000-125000        10.001068   \n",
       "282682              False    150000-175000        10.224048   \n",
       "282683               True      50000-75000         9.392787   \n",
       "282684              False    150000-175000        10.308252   \n",
       "282685              False    150000-175000        10.801971   \n",
       "\n",
       "        AMT_INCOME_TOTAL_LOG  \n",
       "0                  12.506177  \n",
       "1                  11.119883  \n",
       "2                  11.813030  \n",
       "3                  11.707670  \n",
       "4                  11.502875  \n",
       "...                      ...  \n",
       "282681             11.630709  \n",
       "282682             11.967181  \n",
       "282683             11.184421  \n",
       "282684             11.938193  \n",
       "282685             11.967181  \n",
       "\n",
       "[282686 rows x 78 columns]"
      ]
     },
     "execution_count": 69,
     "metadata": {},
     "output_type": "execute_result"
    }
   ],
   "source": [
    "Defaulter = app_data[app_data['TARGET'] == 1]\n",
    "Defaulter.reset_index(inplace = True)\n",
    "Defaulter\n",
    "\n",
    "Non_Defaulter = app_data[app_data['TARGET'] == 0]\n",
    "Non_Defaulter.reset_index(inplace = True)\n",
    "Non_Defaulter"
   ]
  },
  {
   "cell_type": "code",
   "execution_count": null,
   "metadata": {},
   "outputs": [],
   "source": []
  },
  {
   "cell_type": "code",
   "execution_count": 70,
   "metadata": {},
   "outputs": [
    {
     "data": {
      "image/png": "[encoded data removed]",
      "text/plain": [
       "<Figure size 720x360 with 2 Axes>"
      ]
     },
     "metadata": {
      "needs_background": "light"
     },
     "output_type": "display_data"
    }
   ],
   "source": [
    "plt.figure(figsize=(10,5))\n",
    "plt.subplot(1,2,1)\n",
    "plt.title(\"Defaulter Vs Contract Type\")\n",
    "sns.countplot('NAME_CONTRACT_TYPE', data=Defaulter)\n",
    "plt.subplot(1,2,2)\n",
    "plt.title(\"Non-Defaulter Vs Contract Type\")\n",
    "sns.countplot('NAME_CONTRACT_TYPE', data=Non_Defaulter)\n",
    "plt.show()"
   ]
  },
  {
   "cell_type": "code",
   "execution_count": 71,
   "metadata": {},
   "outputs": [
    {
     "data": {
      "image/png": "[encoded data removed]",
      "text/plain": [
       "<Figure size 720x360 with 2 Axes>"
      ]
     },
     "metadata": {
      "needs_background": "light"
     },
     "output_type": "display_data"
    }
   ],
   "source": [
    "plt.figure(figsize=(10,5))\n",
    "plt.subplot(1,2,1)\n",
    "plt.title(\"Defaulter Vs Gender\")\n",
    "sns.countplot('CODE_GENDER', data=Defaulter)\n",
    "plt.subplot(1,2,2)\n",
    "plt.title(\"Non-Defaulter Vs Gender\")\n",
    "sns.countplot('CODE_GENDER', data=Non_Defaulter)\n",
    "plt.show()"
   ]
  },
  {
   "cell_type": "code",
   "execution_count": 72,
   "metadata": {},
   "outputs": [
    {
     "data": {
      "image/png": "[encoded data removed]",
      "text/plain": [
       "<Figure size 720x360 with 2 Axes>"
      ]
     },
     "metadata": {
      "needs_background": "light"
     },
     "output_type": "display_data"
    }
   ],
   "source": [
    "plt.figure(figsize=(10,5))\n",
    "plt.subplot(1,2,1)\n",
    "plt.title(\"Defaulter Vs Education Type\")\n",
    "ax=sns.countplot('NAME_EDUCATION_TYPE', data=Defaulter)\n",
    "ax.set_xticklabels(ax.get_xticklabels(), rotation=40, ha=\"right\")\n",
    "plt.tight_layout()\n",
    "plt.subplot(1,2,2)\n",
    "plt.title(\"Non-Defaulter Vs Education Type\")\n",
    "ax=sns.countplot('NAME_EDUCATION_TYPE', data=Non_Defaulter)\n",
    "ax.set_xticklabels(ax.get_xticklabels(), rotation=40, ha=\"right\")\n",
    "plt.tight_layout()\n",
    "plt.show()"
   ]
  },
  {
   "cell_type": "code",
   "execution_count": 73,
   "metadata": {},
   "outputs": [
    {
     "data": {
      "image/png": "[encoded data removed]",
      "text/plain": [
       "<Figure size 720x360 with 2 Axes>"
      ]
     },
     "metadata": {
      "needs_background": "light"
     },
     "output_type": "display_data"
    }
   ],
   "source": [
    "plt.figure(figsize=(10,5))\n",
    "plt.subplot(1,2,1)\n",
    "plt.title(\"Defaulter Vs Family Status\")\n",
    "ax=sns.countplot('NAME_FAMILY_STATUS', data=Defaulter)\n",
    "ax.set_xticklabels(ax.get_xticklabels(), rotation=40, ha=\"right\")\n",
    "plt.tight_layout()\n",
    "plt.subplot(1,2,2)\n",
    "plt.title(\"Non-Defaulter Vs Family Status\")\n",
    "ax=sns.countplot('NAME_FAMILY_STATUS', data=Non_Defaulter)\n",
    "ax.set_xticklabels(ax.get_xticklabels(), rotation=40, ha=\"right\")\n",
    "plt.tight_layout()\n",
    "plt.show()"
   ]
  },
  {
   "cell_type": "code",
   "execution_count": 74,
   "metadata": {
    "scrolled": true
   },
   "outputs": [
    {
     "data": {
      "image/png": "[encoded data removed]",
      "text/plain": [
       "<Figure size 720x360 with 2 Axes>"
      ]
     },
     "metadata": {
      "needs_background": "light"
     },
     "output_type": "display_data"
    }
   ],
   "source": [
    "plt.figure(figsize=(10,5))\n",
    "plt.subplot(1,2,1)\n",
    "plt.title(\"Defaulter Vs Income Type\")\n",
    "ax=sns.countplot('NAME_INCOME_TYPE', data=Defaulter)\n",
    "ax.set_xticklabels(ax.get_xticklabels(), rotation=40, ha=\"right\")\n",
    "plt.tight_layout()\n",
    "plt.subplot(1,2,2)\n",
    "plt.title(\"Non-Defaulter Vs Income Type\")\n",
    "ax=sns.countplot('NAME_INCOME_TYPE', data=Non_Defaulter)\n",
    "ax.set_xticklabels(ax.get_xticklabels(), rotation=40, ha=\"right\")\n",
    "plt.tight_layout()\n",
    "plt.show()"
   ]
  },
  {
   "cell_type": "code",
   "execution_count": 75,
   "metadata": {
    "scrolled": true
   },
   "outputs": [
    {
     "data": {
      "image/png": "[encoded data removed]",
      "text/plain": [
       "<Figure size 720x360 with 2 Axes>"
      ]
     },
     "metadata": {
      "needs_background": "light"
     },
     "output_type": "display_data"
    }
   ],
   "source": [
    "plt.figure(figsize=(10,5))\n",
    "plt.subplot(1,2,1)\n",
    "plt.title(\"Defaulter Vs Age\")\n",
    "ax=sns.countplot('DAYS_BIRTH_YEAR', data=Defaulter)\n",
    "ax.set_xticklabels(ax.get_xticklabels(), rotation=40, ha=\"right\")\n",
    "plt.tight_layout()\n",
    "plt.subplot(1,2,2)\n",
    "plt.title(\"Non-Defaulter Vs Age\")\n",
    "ax=sns.countplot('DAYS_BIRTH_YEAR', data=Non_Defaulter)\n",
    "ax.set_xticklabels(ax.get_xticklabels(), rotation=40, ha=\"right\")\n",
    "plt.tight_layout()\n",
    "plt.show()"
   ]
  },
  {
   "cell_type": "code",
   "execution_count": 76,
   "metadata": {},
   "outputs": [
    {
     "data": {
      "image/png": "[encoded data removed]",
      "text/plain": [
       "<Figure size 720x360 with 2 Axes>"
      ]
     },
     "metadata": {
      "needs_background": "light"
     },
     "output_type": "display_data"
    }
   ],
   "source": [
    "plt.figure(figsize=(10,5))\n",
    "plt.subplot(1,2,1)\n",
    "plt.title(\"Defaulter Vs Income\")\n",
    "ax=sns.countplot('AMT_INCOME_BINS', data=Defaulter)\n",
    "ax.set_xticklabels(ax.get_xticklabels(), rotation=60, ha=\"right\")\n",
    "plt.tight_layout()\n",
    "plt.subplot(1,2,2)\n",
    "plt.title(\"Non-Defaulter Vs Income\")\n",
    "ax=sns.countplot('AMT_INCOME_BINS', data=Non_Defaulter)\n",
    "ax.set_xticklabels(ax.get_xticklabels(), rotation=60, ha=\"right\")\n",
    "plt.tight_layout()\n",
    "plt.show()"
   ]
  },
  {
   "cell_type": "code",
   "execution_count": 77,
   "metadata": {},
   "outputs": [
    {
     "data": {
      "image/png": "[encoded data removed]",
      "text/plain": [
       "<Figure size 432x288 with 1 Axes>"
      ]
     },
     "metadata": {
      "needs_background": "light"
     },
     "output_type": "display_data"
    },
    {
     "data": {
      "image/png": "[encoded data removed]",
      "text/plain": [
       "<Figure size 432x288 with 1 Axes>"
      ]
     },
     "metadata": {
      "needs_background": "light"
     },
     "output_type": "display_data"
    }
   ],
   "source": [
    "#Numeric - Numeric relation.\n",
    "# Income vs Loan Amount\n",
    "plt.scatter(Defaulter['AMT_INCOME_TOTAL'],Defaulter['AMT_CREDIT'])\n",
    "plt.xlabel('Income')\n",
    "plt.ylabel('Loam Amount')\n",
    "plt.title('Income vs Loan Amount')\n",
    "plt.show()\n",
    "\n",
    "# Income vs Loan Amount\n",
    "plt.scatter(Non_Defaulter['AMT_INCOME_TOTAL'],Non_Defaulter['AMT_CREDIT'])\n",
    "plt.xlabel('Income')\n",
    "plt.ylabel('Loam Amount')\n",
    "plt.title('Income vs Loan Amount')\n",
    "plt.show()"
   ]
  },
  {
   "cell_type": "code",
   "execution_count": 78,
   "metadata": {
    "scrolled": true
   },
   "outputs": [
    {
     "data": {
      "image/png": "[encoded data removed]",
      "text/plain": [
       "<Figure size 432x288 with 1 Axes>"
      ]
     },
     "metadata": {
      "needs_background": "light"
     },
     "output_type": "display_data"
    },
    {
     "data": {
      "image/png": "[encoded data removed]",
      "text/plain": [
       "<Figure size 432x288 with 1 Axes>"
      ]
     },
     "metadata": {
      "needs_background": "light"
     },
     "output_type": "display_data"
    }
   ],
   "source": [
    "# Income vs Loan Amount using log function to observe natural logarithm\n",
    "plt.scatter(np.log(Defaulter['AMT_INCOME_TOTAL']),np.log(Defaulter['AMT_CREDIT']))\n",
    "plt.xlabel('Income')\n",
    "plt.ylabel('Loam Amount')\n",
    "plt.title('Defaulter - Income vs Loan Amount')\n",
    "plt.show()\n",
    "\n",
    "# Income vs Loan Amount\n",
    "plt.scatter(np.log(Non_Defaulter['AMT_INCOME_TOTAL']),np.log(Non_Defaulter['AMT_CREDIT']))\n",
    "plt.xlabel('Income')\n",
    "plt.ylabel('Loam Amount')\n",
    "plt.title('Non-Defaulter - Income vs Loan Amount')\n",
    "plt.show()"
   ]
  },
  {
   "cell_type": "code",
   "execution_count": 79,
   "metadata": {
    "scrolled": true
   },
   "outputs": [
    {
     "data": {
      "image/png": "[encoded data removed]",
      "text/plain": [
       "<Figure size 720x360 with 1 Axes>"
      ]
     },
     "metadata": {
      "needs_background": "light"
     },
     "output_type": "display_data"
    }
   ],
   "source": [
    "#Defaulter/non-defaulter vs loan_amount :  (Categorical vs numerical):\n",
    "plt.figure(figsize=(10,5))\n",
    "plt.title('Defaulter/Non-Defaulter Vs Loan Amount')\n",
    "sns.boxplot(data=app_data,x='TARGET',y='AMT_CREDIT')\n",
    "plt.show()"
   ]
  },
  {
   "cell_type": "code",
   "execution_count": 80,
   "metadata": {},
   "outputs": [],
   "source": [
    "#function to find the 75th percentile.\n",
    "def p75(x):\n",
    "    return np.quantile(x, 0.75)"
   ]
  },
  {
   "cell_type": "code",
   "execution_count": 81,
   "metadata": {},
   "outputs": [
    {
     "data": {
      "text/html": [
       "<div>\n",
       "<style scoped>\n",
       "    .dataframe tbody tr th:only-of-type {\n",
       "        vertical-align: middle;\n",
       "    }\n",
       "\n",
       "    .dataframe tbody tr th {\n",
       "        vertical-align: top;\n",
       "    }\n",
       "\n",
       "    .dataframe thead th {\n",
       "        text-align: right;\n",
       "    }\n",
       "</style>\n",
       "<table border=\"1\" class=\"dataframe\">\n",
       "  <thead>\n",
       "    <tr style=\"text-align: right;\">\n",
       "      <th></th>\n",
       "      <th>mean</th>\n",
       "      <th>median</th>\n",
       "      <th>p75</th>\n",
       "    </tr>\n",
       "    <tr>\n",
       "      <th>TARGET</th>\n",
       "      <th></th>\n",
       "      <th></th>\n",
       "      <th></th>\n",
       "    </tr>\n",
       "  </thead>\n",
       "  <tbody>\n",
       "    <tr>\n",
       "      <th>0</th>\n",
       "      <td>602648.282002</td>\n",
       "      <td>517788.0</td>\n",
       "      <td>810000.0</td>\n",
       "    </tr>\n",
       "    <tr>\n",
       "      <th>1</th>\n",
       "      <td>557778.527674</td>\n",
       "      <td>497520.0</td>\n",
       "      <td>733315.5</td>\n",
       "    </tr>\n",
       "  </tbody>\n",
       "</table>\n",
       "</div>"
      ],
      "text/plain": [
       "                 mean    median       p75\n",
       "TARGET                                   \n",
       "0       602648.282002  517788.0  810000.0\n",
       "1       557778.527674  497520.0  733315.5"
      ]
     },
     "execution_count": 81,
     "metadata": {},
     "output_type": "execute_result"
    }
   ],
   "source": [
    "#calculate the mean, median and 75th percentile of loan amount with response\n",
    "app_data.groupby(\"TARGET\")[\"AMT_CREDIT\"].aggregate([\"mean\",\"median\",p75])"
   ]
  },
  {
   "cell_type": "markdown",
   "metadata": {},
   "source": [
    "# Multivariate Analysis: "
   ]
  },
  {
   "cell_type": "code",
   "execution_count": 82,
   "metadata": {},
   "outputs": [
    {
     "name": "stdout",
     "output_type": "stream",
     "text": [
      "                                           TARGET\n",
      "NAME_EDUCATION_TYPE           CODE_GENDER        \n",
      "Academic degree               F                 3\n",
      "                              M                 0\n",
      "Higher education              F              2438\n",
      "                              M              1571\n",
      "Incomplete higher             F               504\n",
      "                              M               368\n",
      "Lower secondary               F               214\n",
      "                              M               203\n",
      "Secondary / secondary special F             11011\n",
      "                              M              8513\n",
      "                                                  TARGET\n",
      "NAME_EDUCATION_TYPE           CODE_GENDER TARGET        \n",
      "Academic degree               F           0           97\n",
      "                              M           0           64\n",
      "Higher education              F           0        47852\n",
      "                              M           0        23002\n",
      "Incomplete higher             F           0         5780\n",
      "                              M           0         3625\n",
      "Lower secondary               F           0         2097\n",
      "                              M           0         1302\n",
      "Secondary / secondary special F           0       132456\n",
      "                              M           0        66411\n"
     ]
    },
    {
     "data": {
      "image/png": "[encoded data removed]",
      "text/plain": [
       "<Figure size 720x360 with 2 Axes>"
      ]
     },
     "metadata": {
      "needs_background": "light"
     },
     "output_type": "display_data"
    }
   ],
   "source": [
    "#Gender-Education- Target:\n",
    "    \n",
    "df = pd.DataFrame(app_data.groupby(['NAME_EDUCATION_TYPE','CODE_GENDER'])['TARGET'].sum())\n",
    "print(df)\n",
    "\n",
    "df1 = pd.DataFrame(Non_Defaulter.groupby(['NAME_EDUCATION_TYPE','CODE_GENDER'])['TARGET'].value_counts())\n",
    "print(df1)\n",
    "\n",
    "fig, ax = plt.subplots(ncols = 2,figsize=(10,5))\n",
    "res = pd.pivot_table(df,index=['NAME_EDUCATION_TYPE'],columns=['CODE_GENDER'],values=['TARGET'])\n",
    "\n",
    "ax[0].set(title ='Gender/EducationvsDefaulter')\n",
    "res.plot(kind='bar',ax = ax[0])\n",
    "\n",
    "res1 = pd.pivot_table(df1,index=['NAME_EDUCATION_TYPE'],columns=['CODE_GENDER'],values=['TARGET'])\n",
    "ax[1].set(title ='Gender/EducationvsNon-Defaulter')\n",
    "res1.plot(kind='bar',ax = ax[1])\n",
    "\n",
    "plt.show()"
   ]
  },
  {
   "cell_type": "code",
   "execution_count": 83,
   "metadata": {},
   "outputs": [
    {
     "name": "stdout",
     "output_type": "stream",
     "text": [
      "                                  TARGET\n",
      "NAME_FAMILY_STATUS   CODE_GENDER        \n",
      "Civil marriage       F              1753\n",
      "                     M              1208\n",
      "Married              F              8324\n",
      "                     M              6526\n",
      "Separated            F              1045\n",
      "                     M               575\n",
      "Single / not married F              2220\n",
      "                     M              2237\n",
      "Unknown              F                 0\n",
      "                     M                 0\n",
      "Widow                F               828\n",
      "                     M               109\n",
      "                                         TARGET\n",
      "NAME_FAMILY_STATUS   CODE_GENDER TARGET        \n",
      "Civil marriage       F           0        19017\n",
      "                     M           0         7797\n",
      "Married              F           0       114124\n",
      "                     M           0        67458\n",
      "Separated            F           0        14416\n",
      "                     M           0         3734\n",
      "Single / not married F           0        26364\n",
      "                     M           0        14623\n",
      "Unknown              F           0            1\n",
      "                     M           0            1\n",
      "Widow                F           0        14360\n",
      "                     M           0          791\n"
     ]
    },
    {
     "data": {
      "image/png": "[encoded data removed]",
      "text/plain": [
       "<Figure size 720x360 with 2 Axes>"
      ]
     },
     "metadata": {
      "needs_background": "light"
     },
     "output_type": "display_data"
    }
   ],
   "source": [
    "#Gender-FamiyStatus-Target:\n",
    "\n",
    "df = pd.DataFrame(app_data.groupby(['NAME_FAMILY_STATUS','CODE_GENDER'])['TARGET'].sum())\n",
    "print(df)\n",
    "\n",
    "df1 = pd.DataFrame(Non_Defaulter.groupby(['NAME_FAMILY_STATUS','CODE_GENDER'])['TARGET'].value_counts())\n",
    "print(df1)\n",
    "\n",
    "fig, ax = plt.subplots(ncols = 2,figsize=(10,5))\n",
    "res = pd.pivot_table(df,index=['NAME_FAMILY_STATUS'],columns=['CODE_GENDER'],values=['TARGET'])\n",
    "ax[0].set(title ='Gender/FamilyStatusvsDefaulter')\n",
    "res.plot(kind='bar',ax=ax[0])\n",
    "\n",
    "res1 = pd.pivot_table(df1,index=['NAME_FAMILY_STATUS'],columns=['CODE_GENDER'],values=['TARGET'])\n",
    "ax[1].set(title ='Gender/FamilyStatusvsNon-Defaulter')\n",
    "res1.plot(kind='bar',ax = ax[1])\n",
    "\n",
    "plt.show()"
   ]
  },
  {
   "cell_type": "code",
   "execution_count": 84,
   "metadata": {},
   "outputs": [
    {
     "data": {
      "image/png": "[encoded data removed]",
      "text/plain": [
       "<Figure size 432x288 with 2 Axes>"
      ]
     },
     "metadata": {
      "needs_background": "light"
     },
     "output_type": "display_data"
    }
   ],
   "source": [
    "#Education vs family status\n",
    "res = pd.pivot_table(app_data,index = \"NAME_EDUCATION_TYPE\",columns = \"NAME_FAMILY_STATUS\",values = \"TARGET\", aggfunc=np.sum)\n",
    "sns.heatmap(res,fmt='.1f',annot = True,cmap = \"YlGn\")\n",
    "plt.show()"
   ]
  },
  {
   "cell_type": "code",
   "execution_count": 85,
   "metadata": {},
   "outputs": [
    {
     "data": {
      "image/png": "[encoded data removed]",
      "text/plain": [
       "<Figure size 432x288 with 2 Axes>"
      ]
     },
     "metadata": {
      "needs_background": "light"
     },
     "output_type": "display_data"
    }
   ],
   "source": [
    "#Income vs Family Status\n",
    "res = pd.pivot_table(app_data,index = \"NAME_INCOME_TYPE\",columns = \"NAME_FAMILY_STATUS\",values = \"TARGET\", aggfunc=np.sum)\n",
    "sns.heatmap(res,fmt='.1f', annot = True,cmap = \"YlOrBr\")\n",
    "plt.show()"
   ]
  },
  {
   "cell_type": "code",
   "execution_count": 86,
   "metadata": {},
   "outputs": [],
   "source": [
    "# Correlation of numeric variables\n",
    "Def_corr = app_data[['SK_ID_CURR','CNT_CHILDREN','TARGET','AMT_INCOME_TOTAL','AMT_CREDIT','AMT_ANNUITY','AMT_GOODS_PRICE',\n",
    "                     'DAYS_BIRTH','DAYS_EMPLOYED','CNT_FAM_MEMBERS','REGION_RATING_CLIENT','REGION_POPULATION_RELATIVE',\n",
    "                     'DAYS_ID_PUBLISH','AMT_REQ_CREDIT_BUREAU_HOUR','AMT_REQ_CREDIT_BUREAU_DAY','AMT_REQ_CREDIT_BUREAU_WEEK',\n",
    "                     'AMT_REQ_CREDIT_BUREAU_MON','AMT_REQ_CREDIT_BUREAU_QRT']]"
   ]
  },
  {
   "cell_type": "code",
   "execution_count": 87,
   "metadata": {},
   "outputs": [],
   "source": [
    "correlations = Def_corr.corr()['TARGET'].sort_values()"
   ]
  },
  {
   "cell_type": "code",
   "execution_count": 88,
   "metadata": {},
   "outputs": [
    {
     "name": "stdout",
     "output_type": "stream",
     "text": [
      "Most Positive Correlations:\n",
      " AMT_REQ_CREDIT_BUREAU_HOUR    0.000930\n",
      "AMT_REQ_CREDIT_BUREAU_DAY     0.002704\n",
      "CNT_FAM_MEMBERS               0.009308\n",
      "CNT_CHILDREN                  0.019187\n",
      "DAYS_ID_PUBLISH               0.051457\n",
      "REGION_RATING_CLIENT          0.058899\n",
      "DAYS_EMPLOYED                 0.074958\n",
      "TARGET                        1.000000\n",
      "Name: TARGET, dtype: float64\n",
      "\n",
      "Most Negative Correlations:\n",
      " DAYS_BIRTH                   -0.078239\n",
      "AMT_GOODS_PRICE              -0.039645\n",
      "REGION_POPULATION_RELATIVE   -0.037227\n",
      "AMT_CREDIT                   -0.030369\n",
      "AMT_ANNUITY                  -0.012815\n",
      "AMT_REQ_CREDIT_BUREAU_MON    -0.012462\n",
      "AMT_INCOME_TOTAL             -0.003982\n",
      "SK_ID_CURR                   -0.002108\n",
      "Name: TARGET, dtype: float64\n"
     ]
    }
   ],
   "source": [
    "print('Most Positive Correlations:\\n', correlations.tail(8))\n",
    "print('\\nMost Negative Correlations:\\n', correlations.head(8))"
   ]
  },
  {
   "cell_type": "code",
   "execution_count": 89,
   "metadata": {},
   "outputs": [
    {
     "data": {
      "image/png": "[encoded data removed]",
      "text/plain": [
       "<Figure size 1440x720 with 2 Axes>"
      ]
     },
     "metadata": {
      "needs_background": "light"
     },
     "output_type": "display_data"
    }
   ],
   "source": [
    "plt.figure(figsize=(20,10))\n",
    "sns.heatmap(Def_corr.corr(),fmt='.1f',annot = True,cmap = \"Reds\")\n",
    "plt.show()"
   ]
  },
  {
   "cell_type": "code",
   "execution_count": null,
   "metadata": {},
   "outputs": [],
   "source": []
  },
  {
   "cell_type": "code",
   "execution_count": null,
   "metadata": {},
   "outputs": [],
   "source": []
  },
  {
   "cell_type": "code",
   "execution_count": null,
   "metadata": {},
   "outputs": [],
   "source": []
  },
  {
   "cell_type": "code",
   "execution_count": null,
   "metadata": {},
   "outputs": [],
   "source": []
  },
  {
   "cell_type": "code",
   "execution_count": null,
   "metadata": {},
   "outputs": [],
   "source": []
  }
 ],
 "metadata": {
  "kernelspec": {
   "display_name": "Python 3",
   "language": "python",
   "name": "python3"
  },
  "language_info": {
   "codemirror_mode": {
    "name": "ipython",
    "version": 3
   },
   "file_extension": ".py",
   "mimetype": "text/x-python",
   "name": "python",
   "nbconvert_exporter": "python",
   "pygments_lexer": "ipython3",
   "version": "3.8.3"
  }
 },
 "nbformat": 4,
 "nbformat_minor": 4
}
